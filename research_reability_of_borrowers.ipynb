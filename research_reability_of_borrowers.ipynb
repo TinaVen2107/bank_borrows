{
  "cells": [
    {
      "cell_type": "markdown",
      "id": "c81daeeb",
      "metadata": {
        "deletable": false,
        "id": "c81daeeb"
      },
      "source": [
        "# Исследование надежности заемщиков\n"
      ]
    },
    {
      "cell_type": "markdown",
      "source": [
        "**Задача проекта**: На основе статистики о платёжеспособности клиентов исследовать влияет ли семейное положение и количество детей клиента на факт возврата кредита в срок.\n"
      ],
      "metadata": {
        "id": "HUUyRoArOoWz"
      },
      "id": "HUUyRoArOoWz"
    },
    {
      "cell_type": "markdown",
      "source": [
        "**Описание проекта**: На основе данных кредитного отдела банка было проведено исследование влияниевлияния семейного положения и\n",
        "количества детей на факт погашения кредита в срок. Была получена информация о\n",
        "данных. Определены и обработаны пропуски. Заменены типы данных на соответствующие\n",
        "хранящимся данным. Удалены дубликаты. Выделены леммы в значениях столбца и\n",
        "категоризированны данные, а также сделаны выводы."
      ],
      "metadata": {
        "id": "l8Hs5W3wOPww"
      },
      "id": "l8Hs5W3wOPww"
    },
    {
      "cell_type": "markdown",
      "id": "744d7639",
      "metadata": {
        "deletable": false,
        "id": "744d7639"
      },
      "source": [
        "## Изучение общей информациюинформации о данных"
      ]
    },
    {
      "cell_type": "code",
      "execution_count": 77,
      "id": "7bcf75c9",
      "metadata": {
        "deletable": false,
        "id": "7bcf75c9",
        "colab": {
          "base_uri": "https://localhost:8080/",
          "height": 677
        },
        "outputId": "6c87a1f1-092b-4e1c-b8e8-15c505a07ac9"
      },
      "outputs": [
        {
          "output_type": "execute_result",
          "data": {
            "text/plain": [
              "    children  days_employed  dob_years            education  education_id  \\\n",
              "0          1   -8437.673028         42               высшее             0   \n",
              "1          1   -4024.803754         36              среднее             1   \n",
              "2          0   -5623.422610         33              Среднее             1   \n",
              "3          3   -4124.747207         32              среднее             1   \n",
              "4          0  340266.072047         53              среднее             1   \n",
              "5          0    -926.185831         27               высшее             0   \n",
              "6          0   -2879.202052         43               высшее             0   \n",
              "7          0    -152.779569         50              СРЕДНЕЕ             1   \n",
              "8          2   -6929.865299         35               ВЫСШЕЕ             0   \n",
              "9          0   -2188.756445         41              среднее             1   \n",
              "10         2   -4171.483647         36               высшее             0   \n",
              "11         0    -792.701887         40              среднее             1   \n",
              "12         0            NaN         65              среднее             1   \n",
              "13         0   -1846.641941         54  неоконченное высшее             2   \n",
              "14         0   -1844.956182         56               высшее             0   \n",
              "15         1    -972.364419         26              среднее             1   \n",
              "16         0   -1719.934226         35              среднее             1   \n",
              "17         0   -2369.999720         33               высшее             0   \n",
              "18         0  400281.136913         53              среднее             1   \n",
              "19         0  -10038.818549         48              СРЕДНЕЕ             1   \n",
              "\n",
              "       family_status  family_status_id gender income_type  debt  \\\n",
              "0    женат / замужем                 0      F   сотрудник     0   \n",
              "1    женат / замужем                 0      F   сотрудник     0   \n",
              "2    женат / замужем                 0      M   сотрудник     0   \n",
              "3    женат / замужем                 0      M   сотрудник     0   \n",
              "4   гражданский брак                 1      F   пенсионер     0   \n",
              "5   гражданский брак                 1      M   компаньон     0   \n",
              "6    женат / замужем                 0      F   компаньон     0   \n",
              "7    женат / замужем                 0      M   сотрудник     0   \n",
              "8   гражданский брак                 1      F   сотрудник     0   \n",
              "9    женат / замужем                 0      M   сотрудник     0   \n",
              "10   женат / замужем                 0      M   компаньон     0   \n",
              "11   женат / замужем                 0      F   сотрудник     0   \n",
              "12  гражданский брак                 1      M   пенсионер     0   \n",
              "13   женат / замужем                 0      F   сотрудник     0   \n",
              "14  гражданский брак                 1      F   компаньон     1   \n",
              "15   женат / замужем                 0      F   сотрудник     0   \n",
              "16   женат / замужем                 0      F   сотрудник     0   \n",
              "17  гражданский брак                 1      M   сотрудник     0   \n",
              "18    вдовец / вдова                 2      F   пенсионер     0   \n",
              "19         в разводе                 3      F   сотрудник     0   \n",
              "\n",
              "     total_income                                 purpose  \n",
              "0   253875.639453                           покупка жилья  \n",
              "1   112080.014102                 приобретение автомобиля  \n",
              "2   145885.952297                           покупка жилья  \n",
              "3   267628.550329              дополнительное образование  \n",
              "4   158616.077870                         сыграть свадьбу  \n",
              "5   255763.565419                           покупка жилья  \n",
              "6   240525.971920                       операции с жильем  \n",
              "7   135823.934197                             образование  \n",
              "8    95856.832424                   на проведение свадьбы  \n",
              "9   144425.938277                 покупка жилья для семьи  \n",
              "10  113943.491460                    покупка недвижимости  \n",
              "11   77069.234271       покупка коммерческой недвижимости  \n",
              "12            NaN                         сыграть свадьбу  \n",
              "13  130458.228857                 приобретение автомобиля  \n",
              "14  165127.911772              покупка жилой недвижимости  \n",
              "15  116820.904450  строительство собственной недвижимости  \n",
              "16  289202.704229                            недвижимость  \n",
              "17   90410.586745              строительство недвижимости  \n",
              "18   56823.777243      на покупку подержанного автомобиля  \n",
              "19  242831.107982            на покупку своего автомобиля  "
            ],
            "text/html": [
              "\n",
              "  <div id=\"df-f465fa98-b4e5-4476-9d48-adc34e738c76\">\n",
              "    <div class=\"colab-df-container\">\n",
              "      <div>\n",
              "<style scoped>\n",
              "    .dataframe tbody tr th:only-of-type {\n",
              "        vertical-align: middle;\n",
              "    }\n",
              "\n",
              "    .dataframe tbody tr th {\n",
              "        vertical-align: top;\n",
              "    }\n",
              "\n",
              "    .dataframe thead th {\n",
              "        text-align: right;\n",
              "    }\n",
              "</style>\n",
              "<table border=\"1\" class=\"dataframe\">\n",
              "  <thead>\n",
              "    <tr style=\"text-align: right;\">\n",
              "      <th></th>\n",
              "      <th>children</th>\n",
              "      <th>days_employed</th>\n",
              "      <th>dob_years</th>\n",
              "      <th>education</th>\n",
              "      <th>education_id</th>\n",
              "      <th>family_status</th>\n",
              "      <th>family_status_id</th>\n",
              "      <th>gender</th>\n",
              "      <th>income_type</th>\n",
              "      <th>debt</th>\n",
              "      <th>total_income</th>\n",
              "      <th>purpose</th>\n",
              "    </tr>\n",
              "  </thead>\n",
              "  <tbody>\n",
              "    <tr>\n",
              "      <th>0</th>\n",
              "      <td>1</td>\n",
              "      <td>-8437.673028</td>\n",
              "      <td>42</td>\n",
              "      <td>высшее</td>\n",
              "      <td>0</td>\n",
              "      <td>женат / замужем</td>\n",
              "      <td>0</td>\n",
              "      <td>F</td>\n",
              "      <td>сотрудник</td>\n",
              "      <td>0</td>\n",
              "      <td>253875.639453</td>\n",
              "      <td>покупка жилья</td>\n",
              "    </tr>\n",
              "    <tr>\n",
              "      <th>1</th>\n",
              "      <td>1</td>\n",
              "      <td>-4024.803754</td>\n",
              "      <td>36</td>\n",
              "      <td>среднее</td>\n",
              "      <td>1</td>\n",
              "      <td>женат / замужем</td>\n",
              "      <td>0</td>\n",
              "      <td>F</td>\n",
              "      <td>сотрудник</td>\n",
              "      <td>0</td>\n",
              "      <td>112080.014102</td>\n",
              "      <td>приобретение автомобиля</td>\n",
              "    </tr>\n",
              "    <tr>\n",
              "      <th>2</th>\n",
              "      <td>0</td>\n",
              "      <td>-5623.422610</td>\n",
              "      <td>33</td>\n",
              "      <td>Среднее</td>\n",
              "      <td>1</td>\n",
              "      <td>женат / замужем</td>\n",
              "      <td>0</td>\n",
              "      <td>M</td>\n",
              "      <td>сотрудник</td>\n",
              "      <td>0</td>\n",
              "      <td>145885.952297</td>\n",
              "      <td>покупка жилья</td>\n",
              "    </tr>\n",
              "    <tr>\n",
              "      <th>3</th>\n",
              "      <td>3</td>\n",
              "      <td>-4124.747207</td>\n",
              "      <td>32</td>\n",
              "      <td>среднее</td>\n",
              "      <td>1</td>\n",
              "      <td>женат / замужем</td>\n",
              "      <td>0</td>\n",
              "      <td>M</td>\n",
              "      <td>сотрудник</td>\n",
              "      <td>0</td>\n",
              "      <td>267628.550329</td>\n",
              "      <td>дополнительное образование</td>\n",
              "    </tr>\n",
              "    <tr>\n",
              "      <th>4</th>\n",
              "      <td>0</td>\n",
              "      <td>340266.072047</td>\n",
              "      <td>53</td>\n",
              "      <td>среднее</td>\n",
              "      <td>1</td>\n",
              "      <td>гражданский брак</td>\n",
              "      <td>1</td>\n",
              "      <td>F</td>\n",
              "      <td>пенсионер</td>\n",
              "      <td>0</td>\n",
              "      <td>158616.077870</td>\n",
              "      <td>сыграть свадьбу</td>\n",
              "    </tr>\n",
              "    <tr>\n",
              "      <th>5</th>\n",
              "      <td>0</td>\n",
              "      <td>-926.185831</td>\n",
              "      <td>27</td>\n",
              "      <td>высшее</td>\n",
              "      <td>0</td>\n",
              "      <td>гражданский брак</td>\n",
              "      <td>1</td>\n",
              "      <td>M</td>\n",
              "      <td>компаньон</td>\n",
              "      <td>0</td>\n",
              "      <td>255763.565419</td>\n",
              "      <td>покупка жилья</td>\n",
              "    </tr>\n",
              "    <tr>\n",
              "      <th>6</th>\n",
              "      <td>0</td>\n",
              "      <td>-2879.202052</td>\n",
              "      <td>43</td>\n",
              "      <td>высшее</td>\n",
              "      <td>0</td>\n",
              "      <td>женат / замужем</td>\n",
              "      <td>0</td>\n",
              "      <td>F</td>\n",
              "      <td>компаньон</td>\n",
              "      <td>0</td>\n",
              "      <td>240525.971920</td>\n",
              "      <td>операции с жильем</td>\n",
              "    </tr>\n",
              "    <tr>\n",
              "      <th>7</th>\n",
              "      <td>0</td>\n",
              "      <td>-152.779569</td>\n",
              "      <td>50</td>\n",
              "      <td>СРЕДНЕЕ</td>\n",
              "      <td>1</td>\n",
              "      <td>женат / замужем</td>\n",
              "      <td>0</td>\n",
              "      <td>M</td>\n",
              "      <td>сотрудник</td>\n",
              "      <td>0</td>\n",
              "      <td>135823.934197</td>\n",
              "      <td>образование</td>\n",
              "    </tr>\n",
              "    <tr>\n",
              "      <th>8</th>\n",
              "      <td>2</td>\n",
              "      <td>-6929.865299</td>\n",
              "      <td>35</td>\n",
              "      <td>ВЫСШЕЕ</td>\n",
              "      <td>0</td>\n",
              "      <td>гражданский брак</td>\n",
              "      <td>1</td>\n",
              "      <td>F</td>\n",
              "      <td>сотрудник</td>\n",
              "      <td>0</td>\n",
              "      <td>95856.832424</td>\n",
              "      <td>на проведение свадьбы</td>\n",
              "    </tr>\n",
              "    <tr>\n",
              "      <th>9</th>\n",
              "      <td>0</td>\n",
              "      <td>-2188.756445</td>\n",
              "      <td>41</td>\n",
              "      <td>среднее</td>\n",
              "      <td>1</td>\n",
              "      <td>женат / замужем</td>\n",
              "      <td>0</td>\n",
              "      <td>M</td>\n",
              "      <td>сотрудник</td>\n",
              "      <td>0</td>\n",
              "      <td>144425.938277</td>\n",
              "      <td>покупка жилья для семьи</td>\n",
              "    </tr>\n",
              "    <tr>\n",
              "      <th>10</th>\n",
              "      <td>2</td>\n",
              "      <td>-4171.483647</td>\n",
              "      <td>36</td>\n",
              "      <td>высшее</td>\n",
              "      <td>0</td>\n",
              "      <td>женат / замужем</td>\n",
              "      <td>0</td>\n",
              "      <td>M</td>\n",
              "      <td>компаньон</td>\n",
              "      <td>0</td>\n",
              "      <td>113943.491460</td>\n",
              "      <td>покупка недвижимости</td>\n",
              "    </tr>\n",
              "    <tr>\n",
              "      <th>11</th>\n",
              "      <td>0</td>\n",
              "      <td>-792.701887</td>\n",
              "      <td>40</td>\n",
              "      <td>среднее</td>\n",
              "      <td>1</td>\n",
              "      <td>женат / замужем</td>\n",
              "      <td>0</td>\n",
              "      <td>F</td>\n",
              "      <td>сотрудник</td>\n",
              "      <td>0</td>\n",
              "      <td>77069.234271</td>\n",
              "      <td>покупка коммерческой недвижимости</td>\n",
              "    </tr>\n",
              "    <tr>\n",
              "      <th>12</th>\n",
              "      <td>0</td>\n",
              "      <td>NaN</td>\n",
              "      <td>65</td>\n",
              "      <td>среднее</td>\n",
              "      <td>1</td>\n",
              "      <td>гражданский брак</td>\n",
              "      <td>1</td>\n",
              "      <td>M</td>\n",
              "      <td>пенсионер</td>\n",
              "      <td>0</td>\n",
              "      <td>NaN</td>\n",
              "      <td>сыграть свадьбу</td>\n",
              "    </tr>\n",
              "    <tr>\n",
              "      <th>13</th>\n",
              "      <td>0</td>\n",
              "      <td>-1846.641941</td>\n",
              "      <td>54</td>\n",
              "      <td>неоконченное высшее</td>\n",
              "      <td>2</td>\n",
              "      <td>женат / замужем</td>\n",
              "      <td>0</td>\n",
              "      <td>F</td>\n",
              "      <td>сотрудник</td>\n",
              "      <td>0</td>\n",
              "      <td>130458.228857</td>\n",
              "      <td>приобретение автомобиля</td>\n",
              "    </tr>\n",
              "    <tr>\n",
              "      <th>14</th>\n",
              "      <td>0</td>\n",
              "      <td>-1844.956182</td>\n",
              "      <td>56</td>\n",
              "      <td>высшее</td>\n",
              "      <td>0</td>\n",
              "      <td>гражданский брак</td>\n",
              "      <td>1</td>\n",
              "      <td>F</td>\n",
              "      <td>компаньон</td>\n",
              "      <td>1</td>\n",
              "      <td>165127.911772</td>\n",
              "      <td>покупка жилой недвижимости</td>\n",
              "    </tr>\n",
              "    <tr>\n",
              "      <th>15</th>\n",
              "      <td>1</td>\n",
              "      <td>-972.364419</td>\n",
              "      <td>26</td>\n",
              "      <td>среднее</td>\n",
              "      <td>1</td>\n",
              "      <td>женат / замужем</td>\n",
              "      <td>0</td>\n",
              "      <td>F</td>\n",
              "      <td>сотрудник</td>\n",
              "      <td>0</td>\n",
              "      <td>116820.904450</td>\n",
              "      <td>строительство собственной недвижимости</td>\n",
              "    </tr>\n",
              "    <tr>\n",
              "      <th>16</th>\n",
              "      <td>0</td>\n",
              "      <td>-1719.934226</td>\n",
              "      <td>35</td>\n",
              "      <td>среднее</td>\n",
              "      <td>1</td>\n",
              "      <td>женат / замужем</td>\n",
              "      <td>0</td>\n",
              "      <td>F</td>\n",
              "      <td>сотрудник</td>\n",
              "      <td>0</td>\n",
              "      <td>289202.704229</td>\n",
              "      <td>недвижимость</td>\n",
              "    </tr>\n",
              "    <tr>\n",
              "      <th>17</th>\n",
              "      <td>0</td>\n",
              "      <td>-2369.999720</td>\n",
              "      <td>33</td>\n",
              "      <td>высшее</td>\n",
              "      <td>0</td>\n",
              "      <td>гражданский брак</td>\n",
              "      <td>1</td>\n",
              "      <td>M</td>\n",
              "      <td>сотрудник</td>\n",
              "      <td>0</td>\n",
              "      <td>90410.586745</td>\n",
              "      <td>строительство недвижимости</td>\n",
              "    </tr>\n",
              "    <tr>\n",
              "      <th>18</th>\n",
              "      <td>0</td>\n",
              "      <td>400281.136913</td>\n",
              "      <td>53</td>\n",
              "      <td>среднее</td>\n",
              "      <td>1</td>\n",
              "      <td>вдовец / вдова</td>\n",
              "      <td>2</td>\n",
              "      <td>F</td>\n",
              "      <td>пенсионер</td>\n",
              "      <td>0</td>\n",
              "      <td>56823.777243</td>\n",
              "      <td>на покупку подержанного автомобиля</td>\n",
              "    </tr>\n",
              "    <tr>\n",
              "      <th>19</th>\n",
              "      <td>0</td>\n",
              "      <td>-10038.818549</td>\n",
              "      <td>48</td>\n",
              "      <td>СРЕДНЕЕ</td>\n",
              "      <td>1</td>\n",
              "      <td>в разводе</td>\n",
              "      <td>3</td>\n",
              "      <td>F</td>\n",
              "      <td>сотрудник</td>\n",
              "      <td>0</td>\n",
              "      <td>242831.107982</td>\n",
              "      <td>на покупку своего автомобиля</td>\n",
              "    </tr>\n",
              "  </tbody>\n",
              "</table>\n",
              "</div>\n",
              "      <button class=\"colab-df-convert\" onclick=\"convertToInteractive('df-f465fa98-b4e5-4476-9d48-adc34e738c76')\"\n",
              "              title=\"Convert this dataframe to an interactive table.\"\n",
              "              style=\"display:none;\">\n",
              "        \n",
              "  <svg xmlns=\"http://www.w3.org/2000/svg\" height=\"24px\"viewBox=\"0 0 24 24\"\n",
              "       width=\"24px\">\n",
              "    <path d=\"M0 0h24v24H0V0z\" fill=\"none\"/>\n",
              "    <path d=\"M18.56 5.44l.94 2.06.94-2.06 2.06-.94-2.06-.94-.94-2.06-.94 2.06-2.06.94zm-11 1L8.5 8.5l.94-2.06 2.06-.94-2.06-.94L8.5 2.5l-.94 2.06-2.06.94zm10 10l.94 2.06.94-2.06 2.06-.94-2.06-.94-.94-2.06-.94 2.06-2.06.94z\"/><path d=\"M17.41 7.96l-1.37-1.37c-.4-.4-.92-.59-1.43-.59-.52 0-1.04.2-1.43.59L10.3 9.45l-7.72 7.72c-.78.78-.78 2.05 0 2.83L4 21.41c.39.39.9.59 1.41.59.51 0 1.02-.2 1.41-.59l7.78-7.78 2.81-2.81c.8-.78.8-2.07 0-2.86zM5.41 20L4 18.59l7.72-7.72 1.47 1.35L5.41 20z\"/>\n",
              "  </svg>\n",
              "      </button>\n",
              "      \n",
              "  <style>\n",
              "    .colab-df-container {\n",
              "      display:flex;\n",
              "      flex-wrap:wrap;\n",
              "      gap: 12px;\n",
              "    }\n",
              "\n",
              "    .colab-df-convert {\n",
              "      background-color: #E8F0FE;\n",
              "      border: none;\n",
              "      border-radius: 50%;\n",
              "      cursor: pointer;\n",
              "      display: none;\n",
              "      fill: #1967D2;\n",
              "      height: 32px;\n",
              "      padding: 0 0 0 0;\n",
              "      width: 32px;\n",
              "    }\n",
              "\n",
              "    .colab-df-convert:hover {\n",
              "      background-color: #E2EBFA;\n",
              "      box-shadow: 0px 1px 2px rgba(60, 64, 67, 0.3), 0px 1px 3px 1px rgba(60, 64, 67, 0.15);\n",
              "      fill: #174EA6;\n",
              "    }\n",
              "\n",
              "    [theme=dark] .colab-df-convert {\n",
              "      background-color: #3B4455;\n",
              "      fill: #D2E3FC;\n",
              "    }\n",
              "\n",
              "    [theme=dark] .colab-df-convert:hover {\n",
              "      background-color: #434B5C;\n",
              "      box-shadow: 0px 1px 3px 1px rgba(0, 0, 0, 0.15);\n",
              "      filter: drop-shadow(0px 1px 2px rgba(0, 0, 0, 0.3));\n",
              "      fill: #FFFFFF;\n",
              "    }\n",
              "  </style>\n",
              "\n",
              "      <script>\n",
              "        const buttonEl =\n",
              "          document.querySelector('#df-f465fa98-b4e5-4476-9d48-adc34e738c76 button.colab-df-convert');\n",
              "        buttonEl.style.display =\n",
              "          google.colab.kernel.accessAllowed ? 'block' : 'none';\n",
              "\n",
              "        async function convertToInteractive(key) {\n",
              "          const element = document.querySelector('#df-f465fa98-b4e5-4476-9d48-adc34e738c76');\n",
              "          const dataTable =\n",
              "            await google.colab.kernel.invokeFunction('convertToInteractive',\n",
              "                                                     [key], {});\n",
              "          if (!dataTable) return;\n",
              "\n",
              "          const docLinkHtml = 'Like what you see? Visit the ' +\n",
              "            '<a target=\"_blank\" href=https://colab.research.google.com/notebooks/data_table.ipynb>data table notebook</a>'\n",
              "            + ' to learn more about interactive tables.';\n",
              "          element.innerHTML = '';\n",
              "          dataTable['output_type'] = 'display_data';\n",
              "          await google.colab.output.renderOutput(dataTable, element);\n",
              "          const docLink = document.createElement('div');\n",
              "          docLink.innerHTML = docLinkHtml;\n",
              "          element.appendChild(docLink);\n",
              "        }\n",
              "      </script>\n",
              "    </div>\n",
              "  </div>\n",
              "  "
            ]
          },
          "metadata": {},
          "execution_count": 77
        }
      ],
      "source": [
        "import pandas as pd\n",
        "data = pd.read_csv('https://code.s3.yandex.net/datasets/data.csv')\n",
        "data.head(20)"
      ]
    },
    {
      "cell_type": "code",
      "execution_count": 78,
      "id": "2b757bca",
      "metadata": {
        "deletable": false,
        "id": "2b757bca",
        "outputId": "167af254-9d4b-412f-f4b8-81ba515eecba",
        "colab": {
          "base_uri": "https://localhost:8080/"
        }
      },
      "outputs": [
        {
          "output_type": "stream",
          "name": "stdout",
          "text": [
            "<class 'pandas.core.frame.DataFrame'>\n",
            "RangeIndex: 21525 entries, 0 to 21524\n",
            "Data columns (total 12 columns):\n",
            " #   Column            Non-Null Count  Dtype  \n",
            "---  ------            --------------  -----  \n",
            " 0   children          21525 non-null  int64  \n",
            " 1   days_employed     19351 non-null  float64\n",
            " 2   dob_years         21525 non-null  int64  \n",
            " 3   education         21525 non-null  object \n",
            " 4   education_id      21525 non-null  int64  \n",
            " 5   family_status     21525 non-null  object \n",
            " 6   family_status_id  21525 non-null  int64  \n",
            " 7   gender            21525 non-null  object \n",
            " 8   income_type       21525 non-null  object \n",
            " 9   debt              21525 non-null  int64  \n",
            " 10  total_income      19351 non-null  float64\n",
            " 11  purpose           21525 non-null  object \n",
            "dtypes: float64(2), int64(5), object(5)\n",
            "memory usage: 2.0+ MB\n"
          ]
        }
      ],
      "source": [
        "data.info()"
      ]
    },
    {
      "cell_type": "markdown",
      "id": "333ec665",
      "metadata": {
        "deletable": false,
        "id": "333ec665"
      },
      "source": [
        "## Предобработка данных"
      ]
    },
    {
      "cell_type": "markdown",
      "id": "02d92d53",
      "metadata": {
        "deletable": false,
        "id": "02d92d53"
      },
      "source": [
        "### Удаление пропусков"
      ]
    },
    {
      "cell_type": "markdown",
      "id": "cd84967c",
      "metadata": {
        "deletable": false,
        "id": "cd84967c"
      },
      "source": [
        "1) Выводим количество пропущенных значений для каждого столбца."
      ]
    },
    {
      "cell_type": "code",
      "execution_count": 79,
      "id": "7f9b2309",
      "metadata": {
        "deletable": false,
        "id": "7f9b2309",
        "outputId": "dc2f4019-474b-40db-bd77-d510bd4b2c4a",
        "colab": {
          "base_uri": "https://localhost:8080/"
        }
      },
      "outputs": [
        {
          "output_type": "execute_result",
          "data": {
            "text/plain": [
              "children               0\n",
              "days_employed       2174\n",
              "dob_years              0\n",
              "education              0\n",
              "education_id           0\n",
              "family_status          0\n",
              "family_status_id       0\n",
              "gender                 0\n",
              "income_type            0\n",
              "debt                   0\n",
              "total_income        2174\n",
              "purpose                0\n",
              "dtype: int64"
            ]
          },
          "metadata": {},
          "execution_count": 79
        }
      ],
      "source": [
        "data.isna().sum()"
      ]
    },
    {
      "cell_type": "markdown",
      "id": "db86e27b",
      "metadata": {
        "deletable": false,
        "id": "db86e27b"
      },
      "source": [
        "2)  В двух столбцах есть пропущенные значения. В столбце `total_income` хранится данные о доходах. На сумму дохода сильнее всего влияет тип занятости, поэтому заполнить пропуски в этом столбце заполним медианным значением по каждому типу из столбца `income_type`."
      ]
    },
    {
      "cell_type": "code",
      "execution_count": 80,
      "id": "42006a93",
      "metadata": {
        "deletable": false,
        "id": "42006a93"
      },
      "outputs": [],
      "source": [
        "for t in data['income_type'].unique():\n",
        "    data.loc[(data['income_type'] == t) & (data['total_income'].isna()), 'total_income'] = \\\n",
        "    data.loc[(data['income_type'] == t), 'total_income'].median()"
      ]
    },
    {
      "cell_type": "markdown",
      "id": "89da5ece",
      "metadata": {
        "deletable": false,
        "id": "89da5ece"
      },
      "source": [
        "### Обработка аномальных значений"
      ]
    },
    {
      "cell_type": "markdown",
      "id": "57964554",
      "metadata": {
        "deletable": false,
        "id": "57964554"
      },
      "source": [
        "В данных могут встречаться аномалии, как например отрицательное количество дней трудового стажа в столбце `days_employed`. Для реальных данных это нормально. Заменим все отрицательные значения положительными."
      ]
    },
    {
      "cell_type": "code",
      "execution_count": 86,
      "id": "f6f055bf",
      "metadata": {
        "deletable": false,
        "id": "f6f055bf"
      },
      "outputs": [],
      "source": [
        "data['days_employed'] = data['days_employed'].abs()"
      ]
    },
    {
      "cell_type": "markdown",
      "id": "6107dd2f",
      "metadata": {
        "deletable": false,
        "id": "6107dd2f"
      },
      "source": [
        "Проверим еше раз данные столбца со стежм. Для каждого типа занятости выведем медианное значение трудового стажа `days_employed` в днях."
      ]
    },
    {
      "cell_type": "code",
      "execution_count": 87,
      "id": "85a5faf6",
      "metadata": {
        "deletable": false,
        "id": "85a5faf6",
        "outputId": "8b8a12ba-b893-4d17-abc1-53f9328a4aa3",
        "colab": {
          "base_uri": "https://localhost:8080/"
        }
      },
      "outputs": [
        {
          "output_type": "execute_result",
          "data": {
            "text/plain": [
              "income_type\n",
              "безработный        366413.652744\n",
              "в декрете            3296.759962\n",
              "госслужащий          2689.137274\n",
              "компаньон            1555.947387\n",
              "пенсионер          365286.622650\n",
              "предприниматель       520.848083\n",
              "сотрудник            1572.328285\n",
              "студент               578.751554\n",
              "Name: days_employed, dtype: float64"
            ]
          },
          "metadata": {},
          "execution_count": 87
        }
      ],
      "source": [
        "data.groupby('income_type')['days_employed'].agg('median')"
      ]
    },
    {
      "cell_type": "markdown",
      "id": "38d1a030",
      "metadata": {
        "deletable": false,
        "id": "38d1a030"
      },
      "source": [
        "У двух типов (безработные и пенсионеры) получатся аномально большие значения. Исправить такие значения сложно. Нам для исследования эти типы не понадобятся - оставим данные аномальные нетронутыми."
      ]
    },
    {
      "cell_type": "markdown",
      "id": "d8a9f147",
      "metadata": {
        "deletable": false,
        "id": "d8a9f147"
      },
      "source": [
        "Аномальыне значения есть и в столбце `children`."
      ]
    },
    {
      "cell_type": "code",
      "execution_count": 88,
      "id": "ef5056eb",
      "metadata": {
        "deletable": false,
        "id": "ef5056eb",
        "outputId": "ed8b260f-fc4a-459d-f08b-349fdf01c393",
        "colab": {
          "base_uri": "https://localhost:8080/"
        }
      },
      "outputs": [
        {
          "output_type": "execute_result",
          "data": {
            "text/plain": [
              "array([1, 0, 3, 2, 4, 5])"
            ]
          },
          "metadata": {},
          "execution_count": 88
        }
      ],
      "source": [
        "data['children'].unique()"
      ]
    },
    {
      "cell_type": "markdown",
      "id": "40b9ebf2",
      "metadata": {
        "deletable": false,
        "id": "40b9ebf2"
      },
      "source": [
        "Удалиим строки, в которых встречаются такие аномальные значения."
      ]
    },
    {
      "cell_type": "code",
      "execution_count": 89,
      "id": "3ff9801d",
      "metadata": {
        "deletable": false,
        "id": "3ff9801d"
      },
      "outputs": [],
      "source": [
        "data = data[(data['children'] != -1) & (data['children'] != 20)]"
      ]
    },
    {
      "cell_type": "markdown",
      "id": "75440b63",
      "metadata": {
        "deletable": false,
        "id": "75440b63"
      },
      "source": [
        "### Заполнение пропусков"
      ]
    },
    {
      "cell_type": "markdown",
      "id": "f4ea573f",
      "metadata": {
        "deletable": false,
        "id": "f4ea573f"
      },
      "source": [
        "Заполним пропуски в столбце `days_employed` медианными значениями по каждого типа занятости `income_type`."
      ]
    },
    {
      "cell_type": "code",
      "execution_count": 92,
      "id": "af6b1a7e",
      "metadata": {
        "deletable": false,
        "id": "af6b1a7e"
      },
      "outputs": [],
      "source": [
        "for t in data['income_type'].unique():\n",
        "    data.loc[(data['income_type'] == t) & (data['days_employed'].isna()), 'days_employed'] = \\\n",
        "    data.loc[(data['income_type'] == t), 'days_employed'].median()"
      ]
    },
    {
      "cell_type": "markdown",
      "id": "2753f40d",
      "metadata": {
        "deletable": false,
        "id": "2753f40d"
      },
      "source": [
        "Проверим, что пропусков не осталось."
      ]
    },
    {
      "cell_type": "code",
      "execution_count": 93,
      "id": "55f78bc2",
      "metadata": {
        "deletable": false,
        "id": "55f78bc2",
        "outputId": "2faf5578-d110-4dff-ae09-3794ae2d7ffc",
        "colab": {
          "base_uri": "https://localhost:8080/"
        }
      },
      "outputs": [
        {
          "output_type": "execute_result",
          "data": {
            "text/plain": [
              "children            0\n",
              "days_employed       0\n",
              "dob_years           0\n",
              "education           0\n",
              "education_id        0\n",
              "family_status       0\n",
              "family_status_id    0\n",
              "gender              0\n",
              "income_type         0\n",
              "debt                0\n",
              "total_income        0\n",
              "purpose             0\n",
              "dtype: int64"
            ]
          },
          "metadata": {},
          "execution_count": 93
        }
      ],
      "source": [
        "data.isna().sum()"
      ]
    },
    {
      "cell_type": "markdown",
      "id": "ddc81e43",
      "metadata": {
        "deletable": false,
        "id": "ddc81e43"
      },
      "source": [
        "### Изменение типов данных"
      ]
    },
    {
      "cell_type": "markdown",
      "id": "42d19d24",
      "metadata": {
        "deletable": false,
        "id": "42d19d24"
      },
      "source": [
        "Заменим вещественный тип данных в столбце `total_income` на целочисленный."
      ]
    },
    {
      "cell_type": "code",
      "execution_count": 63,
      "id": "920b65ad",
      "metadata": {
        "deletable": false,
        "id": "920b65ad"
      },
      "outputs": [],
      "source": [
        "data['total_income'] = data['total_income'].astype(int)"
      ]
    },
    {
      "cell_type": "markdown",
      "id": "80c420ba",
      "metadata": {
        "deletable": false,
        "id": "80c420ba"
      },
      "source": [
        "### Обработка дубликатов"
      ]
    },
    {
      "cell_type": "markdown",
      "id": "dc587695",
      "metadata": {
        "deletable": false,
        "id": "dc587695"
      },
      "source": [
        "Выведем количество строк-дубликатов в данных. Если такие строки присутствуют, удалим их."
      ]
    },
    {
      "cell_type": "code",
      "execution_count": 64,
      "id": "3ee445e4",
      "metadata": {
        "deletable": false,
        "id": "3ee445e4",
        "outputId": "84dff9da-811a-43fe-d1ee-d80069c1ce85",
        "colab": {
          "base_uri": "https://localhost:8080/"
        }
      },
      "outputs": [
        {
          "output_type": "execute_result",
          "data": {
            "text/plain": [
              "54"
            ]
          },
          "metadata": {},
          "execution_count": 64
        }
      ],
      "source": [
        "data.duplicated().sum()"
      ]
    },
    {
      "cell_type": "code",
      "execution_count": 94,
      "id": "8575fe05",
      "metadata": {
        "deletable": false,
        "id": "8575fe05"
      },
      "outputs": [],
      "source": [
        "data = data.drop_duplicates()"
      ]
    },
    {
      "cell_type": "markdown",
      "id": "9771a76c",
      "metadata": {
        "deletable": false,
        "id": "9771a76c"
      },
      "source": [
        "Обработаем неявные дубликаты в столбце `education`. В этом столбце есть одни и те же значения, но записанные по-разному. "
      ]
    },
    {
      "cell_type": "code",
      "execution_count": 95,
      "id": "a9f8e2bf",
      "metadata": {
        "deletable": false,
        "id": "a9f8e2bf"
      },
      "outputs": [],
      "source": [
        "data['education'] = data['education'].str.lower()"
      ]
    },
    {
      "cell_type": "markdown",
      "id": "9904cf55",
      "metadata": {
        "deletable": false,
        "id": "9904cf55"
      },
      "source": [
        "### Категоризация данных"
      ]
    },
    {
      "cell_type": "markdown",
      "id": "72fcc8a2",
      "metadata": {
        "deletable": false,
        "id": "72fcc8a2"
      },
      "source": [
        "На основании диапазонов, указанных ниже, создадим в датафрейме `data` столбец `total_income_category` с категориями:**\n",
        "\n",
        "- 0–30000 — `'E'`;\n",
        "- 30001–50000 — `'D'`;\n",
        "- 50001–200000 — `'C'`;\n",
        "- 200001–1000000 — `'B'`;\n",
        "- 1000001 и выше — `'A'`."
      ]
    },
    {
      "cell_type": "code",
      "execution_count": 96,
      "id": "e1771346",
      "metadata": {
        "deletable": false,
        "id": "e1771346"
      },
      "outputs": [],
      "source": [
        "def categorize_income(income):\n",
        "    try:\n",
        "        if 0 <= income <= 30000:\n",
        "            return 'E'\n",
        "        elif 30001 <= income <= 50000:\n",
        "            return 'D'\n",
        "        elif 50001 <= income <= 200000:\n",
        "            return 'C'\n",
        "        elif 200001 <= income <= 1000000:\n",
        "            return 'B'\n",
        "        elif income >= 1000001:\n",
        "            return 'A'\n",
        "    except:\n",
        "        pass"
      ]
    },
    {
      "cell_type": "code",
      "execution_count": 97,
      "id": "d5f3586d",
      "metadata": {
        "deletable": false,
        "id": "d5f3586d"
      },
      "outputs": [],
      "source": [
        "data['total_income_category'] = data['total_income'].apply(categorize_income)"
      ]
    },
    {
      "cell_type": "markdown",
      "id": "dde49b5c",
      "metadata": {
        "deletable": false,
        "id": "dde49b5c"
      },
      "source": [
        "Выведемна экран перечень уникальных целей взятия кредита из столбца `purpose`, чтобы посмотреть, какие категории можно выделить в данном столбце."
      ]
    },
    {
      "cell_type": "code",
      "execution_count": 98,
      "id": "f67ce9b3",
      "metadata": {
        "deletable": false,
        "id": "f67ce9b3",
        "outputId": "d3835762-6a11-461f-b952-bc9a6a21bc2e",
        "colab": {
          "base_uri": "https://localhost:8080/"
        }
      },
      "outputs": [
        {
          "output_type": "execute_result",
          "data": {
            "text/plain": [
              "array(['покупка жилья', 'приобретение автомобиля',\n",
              "       'дополнительное образование', 'сыграть свадьбу',\n",
              "       'операции с жильем', 'образование', 'на проведение свадьбы',\n",
              "       'покупка жилья для семьи', 'покупка недвижимости',\n",
              "       'покупка коммерческой недвижимости', 'покупка жилой недвижимости',\n",
              "       'строительство собственной недвижимости', 'недвижимость',\n",
              "       'строительство недвижимости', 'на покупку подержанного автомобиля',\n",
              "       'на покупку своего автомобиля',\n",
              "       'операции с коммерческой недвижимостью',\n",
              "       'строительство жилой недвижимости', 'жилье',\n",
              "       'операции со своей недвижимостью', 'автомобили',\n",
              "       'заняться образованием', 'сделка с подержанным автомобилем',\n",
              "       'получение образования', 'автомобиль', 'свадьба',\n",
              "       'получение дополнительного образования', 'покупка своего жилья',\n",
              "       'операции с недвижимостью', 'получение высшего образования',\n",
              "       'свой автомобиль', 'сделка с автомобилем',\n",
              "       'профильное образование', 'высшее образование',\n",
              "       'покупка жилья для сдачи', 'на покупку автомобиля', 'ремонт жилью',\n",
              "       'заняться высшим образованием'], dtype=object)"
            ]
          },
          "metadata": {},
          "execution_count": 98
        }
      ],
      "source": [
        "data['purpose'].unique()"
      ]
    },
    {
      "cell_type": "markdown",
      "id": "85d0aef0",
      "metadata": {
        "deletable": false,
        "id": "85d0aef0"
      },
      "source": [
        "На основании данных из столбца `purpose` сформируем новый столбец `purpose_category`, в который войдут следующие категории:**\n",
        "\n",
        "- `'операции с автомобилем'`,\n",
        "- `'операции с недвижимостью'`,\n",
        "- `'проведение свадьбы'`,\n",
        "- `'получение образования'`."
      ]
    },
    {
      "cell_type": "code",
      "execution_count": 99,
      "id": "e149fab4",
      "metadata": {
        "deletable": false,
        "id": "e149fab4"
      },
      "outputs": [],
      "source": [
        "def categorize_purpose(row):\n",
        "    try:\n",
        "        if 'автом' in row:\n",
        "            return 'операции с автомобилем'\n",
        "        elif 'жил' in row or 'недвиж' in row:\n",
        "            return 'операции с недвижимостью'\n",
        "        elif 'свад' in row:\n",
        "            return 'проведение свадьбы'\n",
        "        elif 'образов' in row:\n",
        "            return 'получение образования'\n",
        "    except:\n",
        "        return 'нет категории'"
      ]
    },
    {
      "cell_type": "code",
      "execution_count": 100,
      "id": "bf36e69b",
      "metadata": {
        "deletable": false,
        "id": "bf36e69b"
      },
      "outputs": [],
      "source": [
        "data['purpose_category'] = data['purpose'].apply(categorize_purpose)"
      ]
    },
    {
      "cell_type": "markdown",
      "id": "09b242bf",
      "metadata": {
        "deletable": false,
        "editable": false,
        "id": "09b242bf"
      },
      "source": [
        "## Анализ данных и ответы на вопросы исследования"
      ]
    },
    {
      "cell_type": "markdown",
      "id": "c5d66278",
      "metadata": {
        "deletable": false,
        "editable": false,
        "id": "c5d66278"
      },
      "source": [
        "**Вопрос 1. Есть ли зависимость между количеством детей и возвратом кредита в срок?**"
      ]
    },
    {
      "cell_type": "code",
      "execution_count": 101,
      "id": "2cacfc4a",
      "metadata": {
        "id": "2cacfc4a",
        "scrolled": true,
        "colab": {
          "base_uri": "https://localhost:8080/",
          "height": 329
        },
        "outputId": "f5f7e39e-0829-4493-b0c8-033682235f92"
      },
      "outputs": [
        {
          "output_type": "display_data",
          "data": {
            "text/plain": [
              "debt  children        0       1  ratio\n",
              "0            0  13044.0  1063.0  0.075\n",
              "1            1   4365.0   444.0  0.092\n",
              "2            2   1858.0   194.0  0.095\n",
              "3            3    303.0    27.0  0.082\n",
              "4            4     37.0     4.0  0.098\n",
              "5            5      9.0     NaN    NaN"
            ],
            "text/html": [
              "\n",
              "  <div id=\"df-c00d5332-c47d-4fbc-92d9-337d9dc5312e\">\n",
              "    <div class=\"colab-df-container\">\n",
              "      <div>\n",
              "<style scoped>\n",
              "    .dataframe tbody tr th:only-of-type {\n",
              "        vertical-align: middle;\n",
              "    }\n",
              "\n",
              "    .dataframe tbody tr th {\n",
              "        vertical-align: top;\n",
              "    }\n",
              "\n",
              "    .dataframe thead th {\n",
              "        text-align: right;\n",
              "    }\n",
              "</style>\n",
              "<table border=\"1\" class=\"dataframe\">\n",
              "  <thead>\n",
              "    <tr style=\"text-align: right;\">\n",
              "      <th>debt</th>\n",
              "      <th>children</th>\n",
              "      <th>0</th>\n",
              "      <th>1</th>\n",
              "      <th>ratio</th>\n",
              "    </tr>\n",
              "  </thead>\n",
              "  <tbody>\n",
              "    <tr>\n",
              "      <th>0</th>\n",
              "      <td>0</td>\n",
              "      <td>13044.0</td>\n",
              "      <td>1063.0</td>\n",
              "      <td>0.075</td>\n",
              "    </tr>\n",
              "    <tr>\n",
              "      <th>1</th>\n",
              "      <td>1</td>\n",
              "      <td>4365.0</td>\n",
              "      <td>444.0</td>\n",
              "      <td>0.092</td>\n",
              "    </tr>\n",
              "    <tr>\n",
              "      <th>2</th>\n",
              "      <td>2</td>\n",
              "      <td>1858.0</td>\n",
              "      <td>194.0</td>\n",
              "      <td>0.095</td>\n",
              "    </tr>\n",
              "    <tr>\n",
              "      <th>3</th>\n",
              "      <td>3</td>\n",
              "      <td>303.0</td>\n",
              "      <td>27.0</td>\n",
              "      <td>0.082</td>\n",
              "    </tr>\n",
              "    <tr>\n",
              "      <th>4</th>\n",
              "      <td>4</td>\n",
              "      <td>37.0</td>\n",
              "      <td>4.0</td>\n",
              "      <td>0.098</td>\n",
              "    </tr>\n",
              "    <tr>\n",
              "      <th>5</th>\n",
              "      <td>5</td>\n",
              "      <td>9.0</td>\n",
              "      <td>NaN</td>\n",
              "      <td>NaN</td>\n",
              "    </tr>\n",
              "  </tbody>\n",
              "</table>\n",
              "</div>\n",
              "      <button class=\"colab-df-convert\" onclick=\"convertToInteractive('df-c00d5332-c47d-4fbc-92d9-337d9dc5312e')\"\n",
              "              title=\"Convert this dataframe to an interactive table.\"\n",
              "              style=\"display:none;\">\n",
              "        \n",
              "  <svg xmlns=\"http://www.w3.org/2000/svg\" height=\"24px\"viewBox=\"0 0 24 24\"\n",
              "       width=\"24px\">\n",
              "    <path d=\"M0 0h24v24H0V0z\" fill=\"none\"/>\n",
              "    <path d=\"M18.56 5.44l.94 2.06.94-2.06 2.06-.94-2.06-.94-.94-2.06-.94 2.06-2.06.94zm-11 1L8.5 8.5l.94-2.06 2.06-.94-2.06-.94L8.5 2.5l-.94 2.06-2.06.94zm10 10l.94 2.06.94-2.06 2.06-.94-2.06-.94-.94-2.06-.94 2.06-2.06.94z\"/><path d=\"M17.41 7.96l-1.37-1.37c-.4-.4-.92-.59-1.43-.59-.52 0-1.04.2-1.43.59L10.3 9.45l-7.72 7.72c-.78.78-.78 2.05 0 2.83L4 21.41c.39.39.9.59 1.41.59.51 0 1.02-.2 1.41-.59l7.78-7.78 2.81-2.81c.8-.78.8-2.07 0-2.86zM5.41 20L4 18.59l7.72-7.72 1.47 1.35L5.41 20z\"/>\n",
              "  </svg>\n",
              "      </button>\n",
              "      \n",
              "  <style>\n",
              "    .colab-df-container {\n",
              "      display:flex;\n",
              "      flex-wrap:wrap;\n",
              "      gap: 12px;\n",
              "    }\n",
              "\n",
              "    .colab-df-convert {\n",
              "      background-color: #E8F0FE;\n",
              "      border: none;\n",
              "      border-radius: 50%;\n",
              "      cursor: pointer;\n",
              "      display: none;\n",
              "      fill: #1967D2;\n",
              "      height: 32px;\n",
              "      padding: 0 0 0 0;\n",
              "      width: 32px;\n",
              "    }\n",
              "\n",
              "    .colab-df-convert:hover {\n",
              "      background-color: #E2EBFA;\n",
              "      box-shadow: 0px 1px 2px rgba(60, 64, 67, 0.3), 0px 1px 3px 1px rgba(60, 64, 67, 0.15);\n",
              "      fill: #174EA6;\n",
              "    }\n",
              "\n",
              "    [theme=dark] .colab-df-convert {\n",
              "      background-color: #3B4455;\n",
              "      fill: #D2E3FC;\n",
              "    }\n",
              "\n",
              "    [theme=dark] .colab-df-convert:hover {\n",
              "      background-color: #434B5C;\n",
              "      box-shadow: 0px 1px 3px 1px rgba(0, 0, 0, 0.15);\n",
              "      filter: drop-shadow(0px 1px 2px rgba(0, 0, 0, 0.3));\n",
              "      fill: #FFFFFF;\n",
              "    }\n",
              "  </style>\n",
              "\n",
              "      <script>\n",
              "        const buttonEl =\n",
              "          document.querySelector('#df-c00d5332-c47d-4fbc-92d9-337d9dc5312e button.colab-df-convert');\n",
              "        buttonEl.style.display =\n",
              "          google.colab.kernel.accessAllowed ? 'block' : 'none';\n",
              "\n",
              "        async function convertToInteractive(key) {\n",
              "          const element = document.querySelector('#df-c00d5332-c47d-4fbc-92d9-337d9dc5312e');\n",
              "          const dataTable =\n",
              "            await google.colab.kernel.invokeFunction('convertToInteractive',\n",
              "                                                     [key], {});\n",
              "          if (!dataTable) return;\n",
              "\n",
              "          const docLinkHtml = 'Like what you see? Visit the ' +\n",
              "            '<a target=\"_blank\" href=https://colab.research.google.com/notebooks/data_table.ipynb>data table notebook</a>'\n",
              "            + ' to learn more about interactive tables.';\n",
              "          element.innerHTML = '';\n",
              "          dataTable['output_type'] = 'display_data';\n",
              "          await google.colab.output.renderOutput(dataTable, element);\n",
              "          const docLink = document.createElement('div');\n",
              "          docLink.innerHTML = docLinkHtml;\n",
              "          element.appendChild(docLink);\n",
              "        }\n",
              "      </script>\n",
              "    </div>\n",
              "  </div>\n",
              "  "
            ]
          },
          "metadata": {}
        },
        {
          "output_type": "display_data",
          "data": {
            "text/plain": [
              "'7.50% - процент должников без детей'"
            ],
            "application/vnd.google.colaboratory.intrinsic+json": {
              "type": "string"
            }
          },
          "metadata": {}
        },
        {
          "output_type": "display_data",
          "data": {
            "text/plain": [
              "'9.20% - процент должников с 1м ребенком'"
            ],
            "application/vnd.google.colaboratory.intrinsic+json": {
              "type": "string"
            }
          },
          "metadata": {}
        },
        {
          "output_type": "display_data",
          "data": {
            "text/plain": [
              "'9.50% - процентдолжников с 2-мя детьми'"
            ],
            "application/vnd.google.colaboratory.intrinsic+json": {
              "type": "string"
            }
          },
          "metadata": {}
        },
        {
          "output_type": "display_data",
          "data": {
            "text/plain": [
              "'8.20% - процентдолжников с 3-мя детьми'"
            ],
            "application/vnd.google.colaboratory.intrinsic+json": {
              "type": "string"
            }
          },
          "metadata": {}
        },
        {
          "output_type": "display_data",
          "data": {
            "text/plain": [
              "'9.80% - процент должников с 4-мя детьми'"
            ],
            "application/vnd.google.colaboratory.intrinsic+json": {
              "type": "string"
            }
          },
          "metadata": {}
        }
      ],
      "source": [
        "pivot_children = data.pivot_table(index = ['children'], columns = 'debt', values = 'family_status_id', aggfunc='count')\n",
        "pivot_children = pivot_children.reset_index()\n",
        "pivot_children['ratio'] = round(pivot_children[1] / (pivot_children[0] + pivot_children[1]), 3)\n",
        "display(pivot_children)\n",
        "ratio = pivot_children.loc[:,'ratio']\n",
        "display(\"{0:.2f}% - процент должников без детей\".format(ratio[0]*100))\n",
        "display(\"{0:.2f}% - процент должников с 1м ребенком\".format(ratio[1]*100))\n",
        "display(\"{0:.2f}% - процентдолжников с 2-мя детьми\".format(ratio[2]*100))\n",
        "display(\"{0:.2f}% - процентдолжников с 3-мя детьми\".format(ratio[3]*100))\n",
        "display(\"{0:.2f}% - процент должников с 4-мя детьми\".format(ratio[4]*100))"
      ]
    },
    {
      "cell_type": "markdown",
      "id": "3a6b99ec",
      "metadata": {
        "deletable": false,
        "id": "3a6b99ec"
      },
      "source": [
        "**Вывод:**  В среднем по выборке можно сделать вывод, что клиенты с детьми менее надежны в выплате кредитов в срок. Однако в данной категории явно выделяются семьи с 3-мя детьми - самые добросовестные заемщики среди остальных категорий клиентов с детьми. Самые благоприятные заемщики - клиенты без детей. \n",
        "    "
      ]
    },
    {
      "cell_type": "markdown",
      "id": "97be82ca",
      "metadata": {
        "deletable": false,
        "editable": false,
        "id": "97be82ca"
      },
      "source": [
        "**Вопрос 2. Есть ли зависимость между семейным положением и возвратом кредита в срок?**"
      ]
    },
    {
      "cell_type": "code",
      "execution_count": 102,
      "id": "dc3f7ee8",
      "metadata": {
        "id": "dc3f7ee8",
        "colab": {
          "base_uri": "https://localhost:8080/",
          "height": 298
        },
        "outputId": "7e77e033-12be-4ae6-f4d2-c3b2f2b3af2a"
      },
      "outputs": [
        {
          "output_type": "display_data",
          "data": {
            "text/plain": [
              "debt          family_status      0    1  ratio\n",
              "0     Не женат / не замужем   2523  273  0.098\n",
              "1                 в разводе   1105   84  0.071\n",
              "2            вдовец / вдова    888   63  0.066\n",
              "3          гражданский брак   3761  385  0.093\n",
              "4           женат / замужем  11339  927  0.076"
            ],
            "text/html": [
              "\n",
              "  <div id=\"df-b3e1c0cb-1200-4e3a-8666-1d1a785aa36d\">\n",
              "    <div class=\"colab-df-container\">\n",
              "      <div>\n",
              "<style scoped>\n",
              "    .dataframe tbody tr th:only-of-type {\n",
              "        vertical-align: middle;\n",
              "    }\n",
              "\n",
              "    .dataframe tbody tr th {\n",
              "        vertical-align: top;\n",
              "    }\n",
              "\n",
              "    .dataframe thead th {\n",
              "        text-align: right;\n",
              "    }\n",
              "</style>\n",
              "<table border=\"1\" class=\"dataframe\">\n",
              "  <thead>\n",
              "    <tr style=\"text-align: right;\">\n",
              "      <th>debt</th>\n",
              "      <th>family_status</th>\n",
              "      <th>0</th>\n",
              "      <th>1</th>\n",
              "      <th>ratio</th>\n",
              "    </tr>\n",
              "  </thead>\n",
              "  <tbody>\n",
              "    <tr>\n",
              "      <th>0</th>\n",
              "      <td>Не женат / не замужем</td>\n",
              "      <td>2523</td>\n",
              "      <td>273</td>\n",
              "      <td>0.098</td>\n",
              "    </tr>\n",
              "    <tr>\n",
              "      <th>1</th>\n",
              "      <td>в разводе</td>\n",
              "      <td>1105</td>\n",
              "      <td>84</td>\n",
              "      <td>0.071</td>\n",
              "    </tr>\n",
              "    <tr>\n",
              "      <th>2</th>\n",
              "      <td>вдовец / вдова</td>\n",
              "      <td>888</td>\n",
              "      <td>63</td>\n",
              "      <td>0.066</td>\n",
              "    </tr>\n",
              "    <tr>\n",
              "      <th>3</th>\n",
              "      <td>гражданский брак</td>\n",
              "      <td>3761</td>\n",
              "      <td>385</td>\n",
              "      <td>0.093</td>\n",
              "    </tr>\n",
              "    <tr>\n",
              "      <th>4</th>\n",
              "      <td>женат / замужем</td>\n",
              "      <td>11339</td>\n",
              "      <td>927</td>\n",
              "      <td>0.076</td>\n",
              "    </tr>\n",
              "  </tbody>\n",
              "</table>\n",
              "</div>\n",
              "      <button class=\"colab-df-convert\" onclick=\"convertToInteractive('df-b3e1c0cb-1200-4e3a-8666-1d1a785aa36d')\"\n",
              "              title=\"Convert this dataframe to an interactive table.\"\n",
              "              style=\"display:none;\">\n",
              "        \n",
              "  <svg xmlns=\"http://www.w3.org/2000/svg\" height=\"24px\"viewBox=\"0 0 24 24\"\n",
              "       width=\"24px\">\n",
              "    <path d=\"M0 0h24v24H0V0z\" fill=\"none\"/>\n",
              "    <path d=\"M18.56 5.44l.94 2.06.94-2.06 2.06-.94-2.06-.94-.94-2.06-.94 2.06-2.06.94zm-11 1L8.5 8.5l.94-2.06 2.06-.94-2.06-.94L8.5 2.5l-.94 2.06-2.06.94zm10 10l.94 2.06.94-2.06 2.06-.94-2.06-.94-.94-2.06-.94 2.06-2.06.94z\"/><path d=\"M17.41 7.96l-1.37-1.37c-.4-.4-.92-.59-1.43-.59-.52 0-1.04.2-1.43.59L10.3 9.45l-7.72 7.72c-.78.78-.78 2.05 0 2.83L4 21.41c.39.39.9.59 1.41.59.51 0 1.02-.2 1.41-.59l7.78-7.78 2.81-2.81c.8-.78.8-2.07 0-2.86zM5.41 20L4 18.59l7.72-7.72 1.47 1.35L5.41 20z\"/>\n",
              "  </svg>\n",
              "      </button>\n",
              "      \n",
              "  <style>\n",
              "    .colab-df-container {\n",
              "      display:flex;\n",
              "      flex-wrap:wrap;\n",
              "      gap: 12px;\n",
              "    }\n",
              "\n",
              "    .colab-df-convert {\n",
              "      background-color: #E8F0FE;\n",
              "      border: none;\n",
              "      border-radius: 50%;\n",
              "      cursor: pointer;\n",
              "      display: none;\n",
              "      fill: #1967D2;\n",
              "      height: 32px;\n",
              "      padding: 0 0 0 0;\n",
              "      width: 32px;\n",
              "    }\n",
              "\n",
              "    .colab-df-convert:hover {\n",
              "      background-color: #E2EBFA;\n",
              "      box-shadow: 0px 1px 2px rgba(60, 64, 67, 0.3), 0px 1px 3px 1px rgba(60, 64, 67, 0.15);\n",
              "      fill: #174EA6;\n",
              "    }\n",
              "\n",
              "    [theme=dark] .colab-df-convert {\n",
              "      background-color: #3B4455;\n",
              "      fill: #D2E3FC;\n",
              "    }\n",
              "\n",
              "    [theme=dark] .colab-df-convert:hover {\n",
              "      background-color: #434B5C;\n",
              "      box-shadow: 0px 1px 3px 1px rgba(0, 0, 0, 0.15);\n",
              "      filter: drop-shadow(0px 1px 2px rgba(0, 0, 0, 0.3));\n",
              "      fill: #FFFFFF;\n",
              "    }\n",
              "  </style>\n",
              "\n",
              "      <script>\n",
              "        const buttonEl =\n",
              "          document.querySelector('#df-b3e1c0cb-1200-4e3a-8666-1d1a785aa36d button.colab-df-convert');\n",
              "        buttonEl.style.display =\n",
              "          google.colab.kernel.accessAllowed ? 'block' : 'none';\n",
              "\n",
              "        async function convertToInteractive(key) {\n",
              "          const element = document.querySelector('#df-b3e1c0cb-1200-4e3a-8666-1d1a785aa36d');\n",
              "          const dataTable =\n",
              "            await google.colab.kernel.invokeFunction('convertToInteractive',\n",
              "                                                     [key], {});\n",
              "          if (!dataTable) return;\n",
              "\n",
              "          const docLinkHtml = 'Like what you see? Visit the ' +\n",
              "            '<a target=\"_blank\" href=https://colab.research.google.com/notebooks/data_table.ipynb>data table notebook</a>'\n",
              "            + ' to learn more about interactive tables.';\n",
              "          element.innerHTML = '';\n",
              "          dataTable['output_type'] = 'display_data';\n",
              "          await google.colab.output.renderOutput(dataTable, element);\n",
              "          const docLink = document.createElement('div');\n",
              "          docLink.innerHTML = docLinkHtml;\n",
              "          element.appendChild(docLink);\n",
              "        }\n",
              "      </script>\n",
              "    </div>\n",
              "  </div>\n",
              "  "
            ]
          },
          "metadata": {}
        },
        {
          "output_type": "display_data",
          "data": {
            "text/plain": [
              "\"9.80% - процент должников со статусом 'не женат / не замужем'\""
            ],
            "application/vnd.google.colaboratory.intrinsic+json": {
              "type": "string"
            }
          },
          "metadata": {}
        },
        {
          "output_type": "display_data",
          "data": {
            "text/plain": [
              "\"7.10% - процент должников со статусом 'в разводе'\""
            ],
            "application/vnd.google.colaboratory.intrinsic+json": {
              "type": "string"
            }
          },
          "metadata": {}
        },
        {
          "output_type": "display_data",
          "data": {
            "text/plain": [
              "\"6.60% - процент должников со статусом 'вдовец / вдова'\""
            ],
            "application/vnd.google.colaboratory.intrinsic+json": {
              "type": "string"
            }
          },
          "metadata": {}
        },
        {
          "output_type": "display_data",
          "data": {
            "text/plain": [
              "\"9.30% - процент должников со статусом 'гражданский брак'\""
            ],
            "application/vnd.google.colaboratory.intrinsic+json": {
              "type": "string"
            }
          },
          "metadata": {}
        },
        {
          "output_type": "display_data",
          "data": {
            "text/plain": [
              "\"7.60% - процент должников со статусом 'женат /замужем'\""
            ],
            "application/vnd.google.colaboratory.intrinsic+json": {
              "type": "string"
            }
          },
          "metadata": {}
        }
      ],
      "source": [
        "pivot_status = data.pivot_table(index = ['family_status'], columns = 'debt', values = 'family_status_id', aggfunc='count')\n",
        "pivot_status = pivot_status.reset_index()\n",
        "pivot_status['ratio'] = round((pivot_status[1] / (pivot_status[0] + pivot_status[1])), 3)\n",
        "display(pivot_status)\n",
        "ratio_st = pivot_status.loc[:,'ratio']\n",
        "display(\"{0:.2f}% - процент должников со статусом \\'не женат / не замужем\\'\".format(ratio_st[0]*100))\n",
        "display(\"{0:.2f}% - процент должников со статусом \\'в разводе\\'\".format(ratio_st[1]*100))\n",
        "display(\"{0:.2f}% - процент должников со статусом \\'вдовец / вдова\\'\".format(ratio_st[2]*100))\n",
        "display(\"{0:.2f}% - процент должников со статусом \\'гражданский брак\\'\".format(ratio_st[3]*100))\n",
        "display(\"{0:.2f}% - процент должников со статусом \\'женат /замужем\\'\".format(ratio_st[4]*100))"
      ]
    },
    {
      "cell_type": "markdown",
      "id": "1cef7837",
      "metadata": {
        "deletable": false,
        "id": "1cef7837"
      },
      "source": [
        "**Вывод:** Половина выборки - заемщики, находящиеся в браке и  возвращающие кредиты. Данная категория заемщиков является и самой надежной в вопросе возврата кредита в срок, куда относятся также одинокие люди в разводе и потерявшие супруга. Самыми ненадежными в данной категории являются незамужние и клиенты, отметившие статус своих отношений как \"гражданский брак\". "
      ]
    },
    {
      "cell_type": "markdown",
      "id": "1e8b2fca",
      "metadata": {
        "deletable": false,
        "editable": false,
        "id": "1e8b2fca"
      },
      "source": [
        "**Вопрос 3. Есть ли зависимость между уровнем дохода и возвратом кредита в срок?**"
      ]
    },
    {
      "cell_type": "code",
      "execution_count": 103,
      "id": "cd7e3720",
      "metadata": {
        "id": "cd7e3720",
        "colab": {
          "base_uri": "https://localhost:8080/",
          "height": 298
        },
        "outputId": "24ffe7ad-30d3-4886-87a3-04084d1c812f"
      },
      "outputs": [
        {
          "output_type": "display_data",
          "data": {
            "text/plain": [
              "debt total_income_category      0     1  ratio\n",
              "0                        A     23     2  0.080\n",
              "1                        B   4660   354  0.071\n",
              "2                        C  14585  1353  0.085\n",
              "3                        D    328    21  0.060\n",
              "4                        E     20     2  0.091"
            ],
            "text/html": [
              "\n",
              "  <div id=\"df-24abefe3-46f4-49d3-986c-9b590b36f1bd\">\n",
              "    <div class=\"colab-df-container\">\n",
              "      <div>\n",
              "<style scoped>\n",
              "    .dataframe tbody tr th:only-of-type {\n",
              "        vertical-align: middle;\n",
              "    }\n",
              "\n",
              "    .dataframe tbody tr th {\n",
              "        vertical-align: top;\n",
              "    }\n",
              "\n",
              "    .dataframe thead th {\n",
              "        text-align: right;\n",
              "    }\n",
              "</style>\n",
              "<table border=\"1\" class=\"dataframe\">\n",
              "  <thead>\n",
              "    <tr style=\"text-align: right;\">\n",
              "      <th>debt</th>\n",
              "      <th>total_income_category</th>\n",
              "      <th>0</th>\n",
              "      <th>1</th>\n",
              "      <th>ratio</th>\n",
              "    </tr>\n",
              "  </thead>\n",
              "  <tbody>\n",
              "    <tr>\n",
              "      <th>0</th>\n",
              "      <td>A</td>\n",
              "      <td>23</td>\n",
              "      <td>2</td>\n",
              "      <td>0.080</td>\n",
              "    </tr>\n",
              "    <tr>\n",
              "      <th>1</th>\n",
              "      <td>B</td>\n",
              "      <td>4660</td>\n",
              "      <td>354</td>\n",
              "      <td>0.071</td>\n",
              "    </tr>\n",
              "    <tr>\n",
              "      <th>2</th>\n",
              "      <td>C</td>\n",
              "      <td>14585</td>\n",
              "      <td>1353</td>\n",
              "      <td>0.085</td>\n",
              "    </tr>\n",
              "    <tr>\n",
              "      <th>3</th>\n",
              "      <td>D</td>\n",
              "      <td>328</td>\n",
              "      <td>21</td>\n",
              "      <td>0.060</td>\n",
              "    </tr>\n",
              "    <tr>\n",
              "      <th>4</th>\n",
              "      <td>E</td>\n",
              "      <td>20</td>\n",
              "      <td>2</td>\n",
              "      <td>0.091</td>\n",
              "    </tr>\n",
              "  </tbody>\n",
              "</table>\n",
              "</div>\n",
              "      <button class=\"colab-df-convert\" onclick=\"convertToInteractive('df-24abefe3-46f4-49d3-986c-9b590b36f1bd')\"\n",
              "              title=\"Convert this dataframe to an interactive table.\"\n",
              "              style=\"display:none;\">\n",
              "        \n",
              "  <svg xmlns=\"http://www.w3.org/2000/svg\" height=\"24px\"viewBox=\"0 0 24 24\"\n",
              "       width=\"24px\">\n",
              "    <path d=\"M0 0h24v24H0V0z\" fill=\"none\"/>\n",
              "    <path d=\"M18.56 5.44l.94 2.06.94-2.06 2.06-.94-2.06-.94-.94-2.06-.94 2.06-2.06.94zm-11 1L8.5 8.5l.94-2.06 2.06-.94-2.06-.94L8.5 2.5l-.94 2.06-2.06.94zm10 10l.94 2.06.94-2.06 2.06-.94-2.06-.94-.94-2.06-.94 2.06-2.06.94z\"/><path d=\"M17.41 7.96l-1.37-1.37c-.4-.4-.92-.59-1.43-.59-.52 0-1.04.2-1.43.59L10.3 9.45l-7.72 7.72c-.78.78-.78 2.05 0 2.83L4 21.41c.39.39.9.59 1.41.59.51 0 1.02-.2 1.41-.59l7.78-7.78 2.81-2.81c.8-.78.8-2.07 0-2.86zM5.41 20L4 18.59l7.72-7.72 1.47 1.35L5.41 20z\"/>\n",
              "  </svg>\n",
              "      </button>\n",
              "      \n",
              "  <style>\n",
              "    .colab-df-container {\n",
              "      display:flex;\n",
              "      flex-wrap:wrap;\n",
              "      gap: 12px;\n",
              "    }\n",
              "\n",
              "    .colab-df-convert {\n",
              "      background-color: #E8F0FE;\n",
              "      border: none;\n",
              "      border-radius: 50%;\n",
              "      cursor: pointer;\n",
              "      display: none;\n",
              "      fill: #1967D2;\n",
              "      height: 32px;\n",
              "      padding: 0 0 0 0;\n",
              "      width: 32px;\n",
              "    }\n",
              "\n",
              "    .colab-df-convert:hover {\n",
              "      background-color: #E2EBFA;\n",
              "      box-shadow: 0px 1px 2px rgba(60, 64, 67, 0.3), 0px 1px 3px 1px rgba(60, 64, 67, 0.15);\n",
              "      fill: #174EA6;\n",
              "    }\n",
              "\n",
              "    [theme=dark] .colab-df-convert {\n",
              "      background-color: #3B4455;\n",
              "      fill: #D2E3FC;\n",
              "    }\n",
              "\n",
              "    [theme=dark] .colab-df-convert:hover {\n",
              "      background-color: #434B5C;\n",
              "      box-shadow: 0px 1px 3px 1px rgba(0, 0, 0, 0.15);\n",
              "      filter: drop-shadow(0px 1px 2px rgba(0, 0, 0, 0.3));\n",
              "      fill: #FFFFFF;\n",
              "    }\n",
              "  </style>\n",
              "\n",
              "      <script>\n",
              "        const buttonEl =\n",
              "          document.querySelector('#df-24abefe3-46f4-49d3-986c-9b590b36f1bd button.colab-df-convert');\n",
              "        buttonEl.style.display =\n",
              "          google.colab.kernel.accessAllowed ? 'block' : 'none';\n",
              "\n",
              "        async function convertToInteractive(key) {\n",
              "          const element = document.querySelector('#df-24abefe3-46f4-49d3-986c-9b590b36f1bd');\n",
              "          const dataTable =\n",
              "            await google.colab.kernel.invokeFunction('convertToInteractive',\n",
              "                                                     [key], {});\n",
              "          if (!dataTable) return;\n",
              "\n",
              "          const docLinkHtml = 'Like what you see? Visit the ' +\n",
              "            '<a target=\"_blank\" href=https://colab.research.google.com/notebooks/data_table.ipynb>data table notebook</a>'\n",
              "            + ' to learn more about interactive tables.';\n",
              "          element.innerHTML = '';\n",
              "          dataTable['output_type'] = 'display_data';\n",
              "          await google.colab.output.renderOutput(dataTable, element);\n",
              "          const docLink = document.createElement('div');\n",
              "          docLink.innerHTML = docLinkHtml;\n",
              "          element.appendChild(docLink);\n",
              "        }\n",
              "      </script>\n",
              "    </div>\n",
              "  </div>\n",
              "  "
            ]
          },
          "metadata": {}
        },
        {
          "output_type": "display_data",
          "data": {
            "text/plain": [
              "'8.00% - процент должников с доходом 1 000 001 и выше'"
            ],
            "application/vnd.google.colaboratory.intrinsic+json": {
              "type": "string"
            }
          },
          "metadata": {}
        },
        {
          "output_type": "display_data",
          "data": {
            "text/plain": [
              "'7.10% - процент должников с доходом от 200 001 до 1 000 000'"
            ],
            "application/vnd.google.colaboratory.intrinsic+json": {
              "type": "string"
            }
          },
          "metadata": {}
        },
        {
          "output_type": "display_data",
          "data": {
            "text/plain": [
              "'8.50% - процент должников с доходом от 50 000 до 200 000'"
            ],
            "application/vnd.google.colaboratory.intrinsic+json": {
              "type": "string"
            }
          },
          "metadata": {}
        },
        {
          "output_type": "display_data",
          "data": {
            "text/plain": [
              "'6.00% - процент должников с доходом 30 001 до 50 000'"
            ],
            "application/vnd.google.colaboratory.intrinsic+json": {
              "type": "string"
            }
          },
          "metadata": {}
        },
        {
          "output_type": "display_data",
          "data": {
            "text/plain": [
              "'9.10% - процент должников с доходом до 30 000'"
            ],
            "application/vnd.google.colaboratory.intrinsic+json": {
              "type": "string"
            }
          },
          "metadata": {}
        }
      ],
      "source": [
        "pivot_income = data.pivot_table(index = ['total_income_category'], columns = 'debt', values = 'family_status_id', aggfunc='count')\n",
        "pivot_income = pivot_income.reset_index()\n",
        "pivot_income['ratio'] = round((pivot_income[1] / (pivot_income[0] + pivot_income[1])), 3)\n",
        "display(pivot_income)\n",
        "ratio_in = pivot_income.loc[:,'ratio']\n",
        "display(\"{0:.2f}% - процент должников с доходом 1 000 001 и выше\".format(ratio_in[0]*100))\n",
        "display(\"{0:.2f}% - процент должников с доходом от 200 001 до 1 000 000\".format(ratio_in[1]*100))\n",
        "display(\"{0:.2f}% - процент должников с доходом от 50 000 до 200 000\".format(ratio_in[2]*100))\n",
        "display(\"{0:.2f}% - процент должников с доходом 30 001 до 50 000\".format(ratio_in[3]*100))\n",
        "display(\"{0:.2f}% - процент должников с доходом до 30 000\".format(ratio_in[4]*100))"
      ]
    },
    {
      "cell_type": "markdown",
      "id": "e8593def",
      "metadata": {
        "deletable": false,
        "id": "e8593def"
      },
      "source": [
        "**Вывод:** Случаи невозврата кредита в срок встречаются среди клиентов каждой категории по доходам, что говорит о том, что высокий доход - не гарантия возврата кредитных средств в срок. Самая малая доля невозврата кредитов в срок наблюдается среди клиетов с доходами от 50 001 до 200 000. Самые надежные заемщики - клиенты со средним уровнем дохода (со средним и, видимо, стабильным). Самые нестабильные заемщики - с доходом от 30 000 и менее. Высокая доля должников среди клиентов с доходом от 50 000 до 200 000, чт овозможно связано с нестабильными вариантами дохода. "
      ]
    },
    {
      "cell_type": "markdown",
      "id": "99ecbd1f",
      "metadata": {
        "deletable": false,
        "editable": false,
        "id": "99ecbd1f"
      },
      "source": [
        "**Вопрос 4. Как разные цели кредита влияют на его возврат в срок?**"
      ]
    },
    {
      "cell_type": "code",
      "execution_count": 104,
      "id": "2b687290",
      "metadata": {
        "id": "2b687290",
        "colab": {
          "base_uri": "https://localhost:8080/",
          "height": 248
        },
        "outputId": "b636790b-68c5-4d8e-ca21-733a8080fb07"
      },
      "outputs": [
        {
          "output_type": "display_data",
          "data": {
            "text/plain": [
              "debt          purpose_category     0    1  ratio\n",
              "0       операции с автомобилем  3881  400  0.093\n",
              "1     операции с недвижимостью  9974  780  0.073\n",
              "2        получение образования  3620  369  0.093\n",
              "3           проведение свадьбы  2141  183  0.079"
            ],
            "text/html": [
              "\n",
              "  <div id=\"df-8c56d17c-aa7e-4911-964f-a6de9b9977e8\">\n",
              "    <div class=\"colab-df-container\">\n",
              "      <div>\n",
              "<style scoped>\n",
              "    .dataframe tbody tr th:only-of-type {\n",
              "        vertical-align: middle;\n",
              "    }\n",
              "\n",
              "    .dataframe tbody tr th {\n",
              "        vertical-align: top;\n",
              "    }\n",
              "\n",
              "    .dataframe thead th {\n",
              "        text-align: right;\n",
              "    }\n",
              "</style>\n",
              "<table border=\"1\" class=\"dataframe\">\n",
              "  <thead>\n",
              "    <tr style=\"text-align: right;\">\n",
              "      <th>debt</th>\n",
              "      <th>purpose_category</th>\n",
              "      <th>0</th>\n",
              "      <th>1</th>\n",
              "      <th>ratio</th>\n",
              "    </tr>\n",
              "  </thead>\n",
              "  <tbody>\n",
              "    <tr>\n",
              "      <th>0</th>\n",
              "      <td>операции с автомобилем</td>\n",
              "      <td>3881</td>\n",
              "      <td>400</td>\n",
              "      <td>0.093</td>\n",
              "    </tr>\n",
              "    <tr>\n",
              "      <th>1</th>\n",
              "      <td>операции с недвижимостью</td>\n",
              "      <td>9974</td>\n",
              "      <td>780</td>\n",
              "      <td>0.073</td>\n",
              "    </tr>\n",
              "    <tr>\n",
              "      <th>2</th>\n",
              "      <td>получение образования</td>\n",
              "      <td>3620</td>\n",
              "      <td>369</td>\n",
              "      <td>0.093</td>\n",
              "    </tr>\n",
              "    <tr>\n",
              "      <th>3</th>\n",
              "      <td>проведение свадьбы</td>\n",
              "      <td>2141</td>\n",
              "      <td>183</td>\n",
              "      <td>0.079</td>\n",
              "    </tr>\n",
              "  </tbody>\n",
              "</table>\n",
              "</div>\n",
              "      <button class=\"colab-df-convert\" onclick=\"convertToInteractive('df-8c56d17c-aa7e-4911-964f-a6de9b9977e8')\"\n",
              "              title=\"Convert this dataframe to an interactive table.\"\n",
              "              style=\"display:none;\">\n",
              "        \n",
              "  <svg xmlns=\"http://www.w3.org/2000/svg\" height=\"24px\"viewBox=\"0 0 24 24\"\n",
              "       width=\"24px\">\n",
              "    <path d=\"M0 0h24v24H0V0z\" fill=\"none\"/>\n",
              "    <path d=\"M18.56 5.44l.94 2.06.94-2.06 2.06-.94-2.06-.94-.94-2.06-.94 2.06-2.06.94zm-11 1L8.5 8.5l.94-2.06 2.06-.94-2.06-.94L8.5 2.5l-.94 2.06-2.06.94zm10 10l.94 2.06.94-2.06 2.06-.94-2.06-.94-.94-2.06-.94 2.06-2.06.94z\"/><path d=\"M17.41 7.96l-1.37-1.37c-.4-.4-.92-.59-1.43-.59-.52 0-1.04.2-1.43.59L10.3 9.45l-7.72 7.72c-.78.78-.78 2.05 0 2.83L4 21.41c.39.39.9.59 1.41.59.51 0 1.02-.2 1.41-.59l7.78-7.78 2.81-2.81c.8-.78.8-2.07 0-2.86zM5.41 20L4 18.59l7.72-7.72 1.47 1.35L5.41 20z\"/>\n",
              "  </svg>\n",
              "      </button>\n",
              "      \n",
              "  <style>\n",
              "    .colab-df-container {\n",
              "      display:flex;\n",
              "      flex-wrap:wrap;\n",
              "      gap: 12px;\n",
              "    }\n",
              "\n",
              "    .colab-df-convert {\n",
              "      background-color: #E8F0FE;\n",
              "      border: none;\n",
              "      border-radius: 50%;\n",
              "      cursor: pointer;\n",
              "      display: none;\n",
              "      fill: #1967D2;\n",
              "      height: 32px;\n",
              "      padding: 0 0 0 0;\n",
              "      width: 32px;\n",
              "    }\n",
              "\n",
              "    .colab-df-convert:hover {\n",
              "      background-color: #E2EBFA;\n",
              "      box-shadow: 0px 1px 2px rgba(60, 64, 67, 0.3), 0px 1px 3px 1px rgba(60, 64, 67, 0.15);\n",
              "      fill: #174EA6;\n",
              "    }\n",
              "\n",
              "    [theme=dark] .colab-df-convert {\n",
              "      background-color: #3B4455;\n",
              "      fill: #D2E3FC;\n",
              "    }\n",
              "\n",
              "    [theme=dark] .colab-df-convert:hover {\n",
              "      background-color: #434B5C;\n",
              "      box-shadow: 0px 1px 3px 1px rgba(0, 0, 0, 0.15);\n",
              "      filter: drop-shadow(0px 1px 2px rgba(0, 0, 0, 0.3));\n",
              "      fill: #FFFFFF;\n",
              "    }\n",
              "  </style>\n",
              "\n",
              "      <script>\n",
              "        const buttonEl =\n",
              "          document.querySelector('#df-8c56d17c-aa7e-4911-964f-a6de9b9977e8 button.colab-df-convert');\n",
              "        buttonEl.style.display =\n",
              "          google.colab.kernel.accessAllowed ? 'block' : 'none';\n",
              "\n",
              "        async function convertToInteractive(key) {\n",
              "          const element = document.querySelector('#df-8c56d17c-aa7e-4911-964f-a6de9b9977e8');\n",
              "          const dataTable =\n",
              "            await google.colab.kernel.invokeFunction('convertToInteractive',\n",
              "                                                     [key], {});\n",
              "          if (!dataTable) return;\n",
              "\n",
              "          const docLinkHtml = 'Like what you see? Visit the ' +\n",
              "            '<a target=\"_blank\" href=https://colab.research.google.com/notebooks/data_table.ipynb>data table notebook</a>'\n",
              "            + ' to learn more about interactive tables.';\n",
              "          element.innerHTML = '';\n",
              "          dataTable['output_type'] = 'display_data';\n",
              "          await google.colab.output.renderOutput(dataTable, element);\n",
              "          const docLink = document.createElement('div');\n",
              "          docLink.innerHTML = docLinkHtml;\n",
              "          element.appendChild(docLink);\n",
              "        }\n",
              "      </script>\n",
              "    </div>\n",
              "  </div>\n",
              "  "
            ]
          },
          "metadata": {}
        },
        {
          "output_type": "display_data",
          "data": {
            "text/plain": [
              "'9.30% - процент должников с кредитом на автомобиль'"
            ],
            "application/vnd.google.colaboratory.intrinsic+json": {
              "type": "string"
            }
          },
          "metadata": {}
        },
        {
          "output_type": "display_data",
          "data": {
            "text/plain": [
              "'7.30% - процент должников с кредитом на недвижимость'"
            ],
            "application/vnd.google.colaboratory.intrinsic+json": {
              "type": "string"
            }
          },
          "metadata": {}
        },
        {
          "output_type": "display_data",
          "data": {
            "text/plain": [
              "'9.30% - процент должников с кредитом на образование'"
            ],
            "application/vnd.google.colaboratory.intrinsic+json": {
              "type": "string"
            }
          },
          "metadata": {}
        },
        {
          "output_type": "display_data",
          "data": {
            "text/plain": [
              "'7.90% - процент должников с кредитом на свадьбу'"
            ],
            "application/vnd.google.colaboratory.intrinsic+json": {
              "type": "string"
            }
          },
          "metadata": {}
        }
      ],
      "source": [
        "pivot_purpose = data.pivot_table(index = ['purpose_category'], columns = 'debt', values = 'family_status_id', aggfunc='count')\n",
        "pivot_purpose = pivot_purpose.reset_index()\n",
        "pivot_purpose['ratio'] = round((pivot_purpose[1] / (pivot_purpose[0] + pivot_purpose[1])), 3)\n",
        "display(pivot_purpose)\n",
        "\n",
        "ratio_aim = pivot_purpose.loc[:,'ratio']\n",
        "display(\"{0:.2f}% - процент должников с кредитом на автомобиль\".format(ratio_aim[0]*100))\n",
        "display(\"{0:.2f}% - процент должников с кредитом на недвижимость\".format(ratio_aim[1]*100))\n",
        "display(\"{0:.2f}% - процент должников с кредитом на образование\".format(ratio_aim[2]*100))\n",
        "display(\"{0:.2f}% - процент должников с кредитом на свадьбу\".format(ratio_aim[3]*100))"
      ]
    },
    {
      "cell_type": "markdown",
      "id": "b4bb2ce6",
      "metadata": {
        "deletable": false,
        "id": "b4bb2ce6"
      },
      "source": [
        "**Вывод:** Самое большое число заемщиков с невозвратами кредитов (780 человек) - по категории \"операции с недвижимостью\".  Но в этой  категории самое больше количество клиентов, что делает долю невозврата в этой категории самой низкой. Самая высокая доля в двух категориях: каждый девятый заемщик не возвращает в срок кредиты на образование и автомобили. "
      ]
    },
    {
      "cell_type": "markdown",
      "id": "09c3ac4c",
      "metadata": {
        "deletable": false,
        "editable": false,
        "id": "09c3ac4c"
      },
      "source": [
        "**Вопрос 5. Приведите возможные причины появления пропусков в исходных данных.**"
      ]
    },
    {
      "cell_type": "markdown",
      "id": "9da2ceda",
      "metadata": {
        "deletable": false,
        "id": "9da2ceda"
      },
      "source": [
        "*Ответ:* Пропуски данных наблюдались в 2-х столбцах:`total_income` (ежемесячный доход) и `days_employed` (общий трудовой стаж в днях). Информация в данных столбцах могла отсутствовать по причине незаполнения данных клиентами банка. Свой ежемесячный доход могли не указать студенты, пенсионеры, не работающие граждане, лица на иждивении, либо же заемщики не захотели раскрывать данную информацию банку. Та же категория сотрудников могла и не указать свой трудовой стаж (по неимению его). "
      ]
    },
    {
      "cell_type": "markdown",
      "id": "7b0487d6",
      "metadata": {
        "deletable": false,
        "editable": false,
        "id": "7b0487d6"
      },
      "source": [
        "**Вопрос 5. Объясните, почему заполнить пропуски медианным значением — лучшее решение для количественных переменных.**"
      ]
    },
    {
      "cell_type": "markdown",
      "id": "7ecf2b8e",
      "metadata": {
        "deletable": false,
        "id": "7ecf2b8e"
      },
      "source": [
        "*Ответ:* При заполнении пропусков количественных характеристик можно использовать среднее значение, медианное или моду, чтобы оценить типичные значения выборки.  В конкретном случае среднеквадратичное значение наиболее применимо, так как среднее будет характеризоваться большим разрывом между минимумом в выборке и максимумом, а мода в свою очередь слишком \"привязывает\" характеристику к какой-то одной категории клиентов банка."
      ]
    },
    {
      "cell_type": "markdown",
      "id": "6db5255a",
      "metadata": {
        "deletable": false,
        "editable": false,
        "id": "6db5255a"
      },
      "source": [
        "## Общий вывод."
      ]
    },
    {
      "cell_type": "markdown",
      "id": "bad65432",
      "metadata": {
        "id": "bad65432"
      },
      "source": [
        "Стояла задача разобраться, влияет ли семейное положение/количество детей/уровень дохода/цель кредита на факт погашения кредита в срок. При работе с данными обнаружилось, что в них были пропущенны данные о доходах клиентов и трудовом стаже (около 1% от всех данных - были заполненны медианными значением), присутствовали дубликаты (были удалены). Также при преобработке данных для удобства анализа были выделены категории по целям кредита и по доходу. \n",
        "\n",
        "**По итогу можно отменить, что самыми надежными заещиками являются**:\n",
        "1) *незамужние клиенты без детей или многодетные с 3-мя детьми*;\n",
        "2) *находящиеся в браке или разводе, либо являющиеся вдовцами*;\n",
        "3) *клиенты с доходом от 30 000 до 50 0000*;\n",
        "4) *клиенты, берущие кредит для \"операций с недвижимостью*\".\n",
        "\n",
        "**Наибольшая доля дожников определена среди клиентов, которые:**\n",
        "1) *имеют от одного ребенка и более*;\n",
        "2) *являются незамужними\\холостыми или живущими в \"гражданском браке*\";\n",
        "3) *имеют доход менее 30 000*;\n",
        "4) *берут кредиты на автомобили и образование*. "
      ]
    }
  ],
  "metadata": {
    "ExecuteTimeLog": [
      {
        "duration": 41,
        "start_time": "2022-06-14T14:47:04.828Z"
      },
      {
        "duration": 6,
        "start_time": "2022-06-14T14:51:05.638Z"
      },
      {
        "duration": 6,
        "start_time": "2022-06-14T14:51:21.681Z"
      },
      {
        "duration": 472,
        "start_time": "2022-06-14T14:51:31.666Z"
      },
      {
        "duration": 19,
        "start_time": "2022-06-14T14:51:35.192Z"
      },
      {
        "duration": 17,
        "start_time": "2022-06-14T14:51:40.218Z"
      },
      {
        "duration": 9,
        "start_time": "2022-06-14T14:51:43.353Z"
      },
      {
        "duration": 28,
        "start_time": "2022-06-14T14:51:46.136Z"
      },
      {
        "duration": 4,
        "start_time": "2022-06-14T14:51:49.361Z"
      },
      {
        "duration": 8,
        "start_time": "2022-06-14T14:51:50.945Z"
      },
      {
        "duration": 4,
        "start_time": "2022-06-14T14:51:53.499Z"
      },
      {
        "duration": 7,
        "start_time": "2022-06-14T14:51:55.976Z"
      },
      {
        "duration": 5,
        "start_time": "2022-06-14T14:51:58.481Z"
      },
      {
        "duration": 29,
        "start_time": "2022-06-14T14:52:01.687Z"
      },
      {
        "duration": 8,
        "start_time": "2022-06-14T14:52:03.743Z"
      },
      {
        "duration": 3,
        "start_time": "2022-06-14T14:52:06.820Z"
      },
      {
        "duration": 16,
        "start_time": "2022-06-14T14:52:09.289Z"
      },
      {
        "duration": 16,
        "start_time": "2022-06-14T14:52:12.873Z"
      },
      {
        "duration": 10,
        "start_time": "2022-06-14T14:52:15.779Z"
      },
      {
        "duration": 3,
        "start_time": "2022-06-14T14:52:19.438Z"
      },
      {
        "duration": 8,
        "start_time": "2022-06-14T14:52:22.905Z"
      },
      {
        "duration": 5,
        "start_time": "2022-06-14T14:52:25.106Z"
      },
      {
        "duration": 3,
        "start_time": "2022-06-14T14:52:28.394Z"
      },
      {
        "duration": 6,
        "start_time": "2022-06-14T14:52:32.000Z"
      },
      {
        "duration": 6,
        "start_time": "2022-06-14T14:53:07.345Z"
      },
      {
        "duration": 8,
        "start_time": "2022-06-14T14:53:16.354Z"
      },
      {
        "duration": 23,
        "start_time": "2022-06-15T06:54:43.139Z"
      },
      {
        "duration": 11,
        "start_time": "2022-06-15T06:54:59.911Z"
      },
      {
        "duration": 12,
        "start_time": "2022-06-15T07:20:30.022Z"
      },
      {
        "duration": 13,
        "start_time": "2022-06-15T07:20:36.894Z"
      },
      {
        "duration": 11,
        "start_time": "2022-06-15T07:20:48.969Z"
      },
      {
        "duration": 386,
        "start_time": "2022-06-15T10:10:43.854Z"
      },
      {
        "duration": 24,
        "start_time": "2022-06-15T10:10:47.196Z"
      },
      {
        "duration": 13,
        "start_time": "2022-06-15T10:10:51.358Z"
      },
      {
        "duration": 9,
        "start_time": "2022-06-15T10:10:56.105Z"
      },
      {
        "duration": 28,
        "start_time": "2022-06-15T10:10:59.137Z"
      },
      {
        "duration": 3,
        "start_time": "2022-06-15T10:11:01.684Z"
      },
      {
        "duration": 7,
        "start_time": "2022-06-15T10:11:03.905Z"
      },
      {
        "duration": 5,
        "start_time": "2022-06-15T10:11:06.894Z"
      },
      {
        "duration": 7,
        "start_time": "2022-06-15T10:11:09.566Z"
      },
      {
        "duration": 4,
        "start_time": "2022-06-15T10:11:11.564Z"
      },
      {
        "duration": 30,
        "start_time": "2022-06-15T10:11:15.006Z"
      },
      {
        "duration": 8,
        "start_time": "2022-06-15T10:11:17.607Z"
      },
      {
        "duration": 4,
        "start_time": "2022-06-15T10:11:20.221Z"
      },
      {
        "duration": 16,
        "start_time": "2022-06-15T10:11:22.282Z"
      },
      {
        "duration": 14,
        "start_time": "2022-06-15T10:11:24.408Z"
      },
      {
        "duration": 10,
        "start_time": "2022-06-15T10:11:28.101Z"
      },
      {
        "duration": 3,
        "start_time": "2022-06-15T10:11:31.909Z"
      },
      {
        "duration": 8,
        "start_time": "2022-06-15T10:11:34.260Z"
      },
      {
        "duration": 6,
        "start_time": "2022-06-15T10:11:37.260Z"
      },
      {
        "duration": 3,
        "start_time": "2022-06-15T10:11:40.537Z"
      },
      {
        "duration": 10,
        "start_time": "2022-06-15T10:11:44.901Z"
      },
      {
        "duration": 13,
        "start_time": "2022-06-15T10:11:49.440Z"
      },
      {
        "duration": 10,
        "start_time": "2022-06-15T11:04:41.094Z"
      },
      {
        "duration": 30,
        "start_time": "2022-06-15T11:08:27.788Z"
      },
      {
        "duration": 14,
        "start_time": "2022-06-15T11:08:33.421Z"
      },
      {
        "duration": 17,
        "start_time": "2022-06-15T11:31:35.053Z"
      },
      {
        "duration": 17,
        "start_time": "2022-06-15T11:45:16.608Z"
      },
      {
        "duration": 70,
        "start_time": "2022-06-15T11:53:46.531Z"
      },
      {
        "duration": 22,
        "start_time": "2022-06-15T11:53:57.967Z"
      },
      {
        "duration": 21,
        "start_time": "2022-06-15T11:56:21.721Z"
      },
      {
        "duration": 16,
        "start_time": "2022-06-15T11:57:11.954Z"
      },
      {
        "duration": 15,
        "start_time": "2022-06-15T11:57:39.291Z"
      },
      {
        "duration": 15,
        "start_time": "2022-06-15T11:59:42.297Z"
      },
      {
        "duration": 15,
        "start_time": "2022-06-15T12:06:01.594Z"
      },
      {
        "duration": 15,
        "start_time": "2022-06-15T12:06:38.283Z"
      },
      {
        "duration": 19,
        "start_time": "2022-06-15T12:13:40.982Z"
      },
      {
        "duration": 457,
        "start_time": "2022-06-15T13:27:58.356Z"
      },
      {
        "duration": 27,
        "start_time": "2022-06-15T13:27:58.815Z"
      },
      {
        "duration": 28,
        "start_time": "2022-06-15T13:27:58.844Z"
      },
      {
        "duration": 16,
        "start_time": "2022-06-15T13:27:58.874Z"
      },
      {
        "duration": 59,
        "start_time": "2022-06-15T13:27:58.893Z"
      },
      {
        "duration": 5,
        "start_time": "2022-06-15T13:27:58.954Z"
      },
      {
        "duration": 14,
        "start_time": "2022-06-15T13:27:58.960Z"
      },
      {
        "duration": 5,
        "start_time": "2022-06-15T13:27:58.977Z"
      },
      {
        "duration": 10,
        "start_time": "2022-06-15T13:27:58.983Z"
      },
      {
        "duration": 33,
        "start_time": "2022-06-15T13:27:58.994Z"
      },
      {
        "duration": 38,
        "start_time": "2022-06-15T13:27:59.029Z"
      },
      {
        "duration": 11,
        "start_time": "2022-06-15T13:27:59.069Z"
      },
      {
        "duration": 6,
        "start_time": "2022-06-15T13:27:59.082Z"
      },
      {
        "duration": 53,
        "start_time": "2022-06-15T13:27:59.091Z"
      },
      {
        "duration": 22,
        "start_time": "2022-06-15T13:27:59.147Z"
      },
      {
        "duration": 12,
        "start_time": "2022-06-15T13:27:59.171Z"
      },
      {
        "duration": 12,
        "start_time": "2022-06-15T13:27:59.185Z"
      },
      {
        "duration": 35,
        "start_time": "2022-06-15T13:27:59.199Z"
      },
      {
        "duration": 23,
        "start_time": "2022-06-15T13:27:59.237Z"
      },
      {
        "duration": 17,
        "start_time": "2022-06-15T13:27:59.262Z"
      },
      {
        "duration": 17,
        "start_time": "2022-06-15T13:27:59.281Z"
      },
      {
        "duration": 20,
        "start_time": "2022-06-15T13:27:59.301Z"
      },
      {
        "duration": 26,
        "start_time": "2022-06-15T13:27:59.323Z"
      },
      {
        "duration": 23,
        "start_time": "2022-06-15T13:27:59.351Z"
      },
      {
        "duration": 17,
        "start_time": "2022-06-15T13:27:59.377Z"
      },
      {
        "duration": 21,
        "start_time": "2022-06-15T14:28:20.057Z"
      },
      {
        "duration": 33,
        "start_time": "2022-06-15T14:34:04.880Z"
      },
      {
        "duration": 19,
        "start_time": "2022-06-15T14:45:31.920Z"
      },
      {
        "duration": 501,
        "start_time": "2022-06-15T18:00:13.605Z"
      },
      {
        "duration": 23,
        "start_time": "2022-06-15T18:00:14.108Z"
      },
      {
        "duration": 17,
        "start_time": "2022-06-15T18:00:14.132Z"
      },
      {
        "duration": 9,
        "start_time": "2022-06-15T18:00:14.151Z"
      },
      {
        "duration": 44,
        "start_time": "2022-06-15T18:00:14.161Z"
      },
      {
        "duration": 3,
        "start_time": "2022-06-15T18:00:14.207Z"
      },
      {
        "duration": 8,
        "start_time": "2022-06-15T18:00:14.226Z"
      },
      {
        "duration": 7,
        "start_time": "2022-06-15T18:00:14.236Z"
      },
      {
        "duration": 12,
        "start_time": "2022-06-15T18:00:14.245Z"
      },
      {
        "duration": 6,
        "start_time": "2022-06-15T18:00:14.260Z"
      },
      {
        "duration": 60,
        "start_time": "2022-06-15T18:00:14.268Z"
      },
      {
        "duration": 11,
        "start_time": "2022-06-15T18:00:14.329Z"
      },
      {
        "duration": 5,
        "start_time": "2022-06-15T18:00:14.341Z"
      },
      {
        "duration": 23,
        "start_time": "2022-06-15T18:00:14.348Z"
      },
      {
        "duration": 24,
        "start_time": "2022-06-15T18:00:14.372Z"
      },
      {
        "duration": 41,
        "start_time": "2022-06-15T18:00:14.398Z"
      },
      {
        "duration": 4,
        "start_time": "2022-06-15T18:00:14.441Z"
      },
      {
        "duration": 15,
        "start_time": "2022-06-15T18:00:14.447Z"
      },
      {
        "duration": 12,
        "start_time": "2022-06-15T18:00:14.464Z"
      },
      {
        "duration": 14,
        "start_time": "2022-06-15T18:00:14.478Z"
      },
      {
        "duration": 22,
        "start_time": "2022-06-15T18:00:14.493Z"
      },
      {
        "duration": 34,
        "start_time": "2022-06-15T18:00:14.517Z"
      },
      {
        "duration": 18,
        "start_time": "2022-06-15T18:00:14.553Z"
      },
      {
        "duration": 18,
        "start_time": "2022-06-15T18:00:14.573Z"
      },
      {
        "duration": 49,
        "start_time": "2022-06-15T18:00:14.595Z"
      },
      {
        "duration": 504,
        "start_time": "2022-06-15T18:00:55.705Z"
      },
      {
        "duration": 22,
        "start_time": "2022-06-15T18:00:56.211Z"
      },
      {
        "duration": 14,
        "start_time": "2022-06-15T18:00:56.234Z"
      },
      {
        "duration": 9,
        "start_time": "2022-06-15T18:00:56.250Z"
      },
      {
        "duration": 49,
        "start_time": "2022-06-15T18:00:56.261Z"
      },
      {
        "duration": 14,
        "start_time": "2022-06-15T18:00:56.313Z"
      },
      {
        "duration": 25,
        "start_time": "2022-06-15T18:00:56.329Z"
      },
      {
        "duration": 5,
        "start_time": "2022-06-15T18:00:56.356Z"
      },
      {
        "duration": 27,
        "start_time": "2022-06-15T18:00:56.363Z"
      },
      {
        "duration": 5,
        "start_time": "2022-06-15T18:00:56.392Z"
      },
      {
        "duration": 44,
        "start_time": "2022-06-15T18:00:56.399Z"
      },
      {
        "duration": 9,
        "start_time": "2022-06-15T18:00:56.445Z"
      },
      {
        "duration": 6,
        "start_time": "2022-06-15T18:00:56.456Z"
      },
      {
        "duration": 25,
        "start_time": "2022-06-15T18:00:56.464Z"
      },
      {
        "duration": 17,
        "start_time": "2022-06-15T18:00:56.490Z"
      },
      {
        "duration": 23,
        "start_time": "2022-06-15T18:00:56.509Z"
      },
      {
        "duration": 4,
        "start_time": "2022-06-15T18:00:56.533Z"
      },
      {
        "duration": 31,
        "start_time": "2022-06-15T18:00:56.538Z"
      },
      {
        "duration": 28,
        "start_time": "2022-06-15T18:00:56.570Z"
      },
      {
        "duration": 16,
        "start_time": "2022-06-15T18:00:56.600Z"
      },
      {
        "duration": 16,
        "start_time": "2022-06-15T18:00:56.618Z"
      },
      {
        "duration": 7,
        "start_time": "2022-06-15T18:00:56.636Z"
      },
      {
        "duration": 0,
        "start_time": "2022-06-15T18:00:56.644Z"
      },
      {
        "duration": 0,
        "start_time": "2022-06-15T18:00:56.646Z"
      },
      {
        "duration": 0,
        "start_time": "2022-06-15T18:00:56.647Z"
      },
      {
        "duration": 491,
        "start_time": "2022-06-15T18:01:13.088Z"
      },
      {
        "duration": 23,
        "start_time": "2022-06-15T18:01:13.581Z"
      },
      {
        "duration": 26,
        "start_time": "2022-06-15T18:01:13.606Z"
      },
      {
        "duration": 11,
        "start_time": "2022-06-15T18:01:13.633Z"
      },
      {
        "duration": 35,
        "start_time": "2022-06-15T18:01:13.646Z"
      },
      {
        "duration": 3,
        "start_time": "2022-06-15T18:01:13.682Z"
      },
      {
        "duration": 16,
        "start_time": "2022-06-15T18:01:13.687Z"
      },
      {
        "duration": 27,
        "start_time": "2022-06-15T18:01:13.705Z"
      },
      {
        "duration": 11,
        "start_time": "2022-06-15T18:01:13.734Z"
      },
      {
        "duration": 8,
        "start_time": "2022-06-15T18:01:13.747Z"
      },
      {
        "duration": 42,
        "start_time": "2022-06-15T18:01:13.758Z"
      },
      {
        "duration": 29,
        "start_time": "2022-06-15T18:01:13.802Z"
      },
      {
        "duration": 6,
        "start_time": "2022-06-15T18:01:13.833Z"
      },
      {
        "duration": 21,
        "start_time": "2022-06-15T18:01:13.841Z"
      },
      {
        "duration": 25,
        "start_time": "2022-06-15T18:01:13.864Z"
      },
      {
        "duration": 46,
        "start_time": "2022-06-15T18:01:13.891Z"
      },
      {
        "duration": 5,
        "start_time": "2022-06-15T18:01:13.940Z"
      },
      {
        "duration": 22,
        "start_time": "2022-06-15T18:01:13.946Z"
      },
      {
        "duration": 17,
        "start_time": "2022-06-15T18:01:13.970Z"
      },
      {
        "duration": 6,
        "start_time": "2022-06-15T18:01:13.989Z"
      },
      {
        "duration": 29,
        "start_time": "2022-06-15T18:01:13.997Z"
      },
      {
        "duration": 6,
        "start_time": "2022-06-15T18:01:14.028Z"
      },
      {
        "duration": 0,
        "start_time": "2022-06-15T18:01:14.035Z"
      },
      {
        "duration": 0,
        "start_time": "2022-06-15T18:01:14.037Z"
      },
      {
        "duration": 0,
        "start_time": "2022-06-15T18:01:14.038Z"
      },
      {
        "duration": 29,
        "start_time": "2022-06-15T18:01:24.512Z"
      },
      {
        "duration": 24,
        "start_time": "2022-06-15T18:01:42.268Z"
      },
      {
        "duration": 463,
        "start_time": "2022-06-15T18:01:57.253Z"
      },
      {
        "duration": 22,
        "start_time": "2022-06-15T18:01:57.718Z"
      },
      {
        "duration": 16,
        "start_time": "2022-06-15T18:01:57.741Z"
      },
      {
        "duration": 9,
        "start_time": "2022-06-15T18:01:57.760Z"
      },
      {
        "duration": 59,
        "start_time": "2022-06-15T18:01:57.771Z"
      },
      {
        "duration": 4,
        "start_time": "2022-06-15T18:01:57.831Z"
      },
      {
        "duration": 11,
        "start_time": "2022-06-15T18:01:57.836Z"
      },
      {
        "duration": 4,
        "start_time": "2022-06-15T18:01:57.849Z"
      },
      {
        "duration": 13,
        "start_time": "2022-06-15T18:01:57.854Z"
      },
      {
        "duration": 5,
        "start_time": "2022-06-15T18:01:57.870Z"
      },
      {
        "duration": 59,
        "start_time": "2022-06-15T18:01:57.876Z"
      },
      {
        "duration": 9,
        "start_time": "2022-06-15T18:01:57.936Z"
      },
      {
        "duration": 9,
        "start_time": "2022-06-15T18:01:57.947Z"
      },
      {
        "duration": 21,
        "start_time": "2022-06-15T18:01:57.958Z"
      },
      {
        "duration": 16,
        "start_time": "2022-06-15T18:01:57.980Z"
      },
      {
        "duration": 35,
        "start_time": "2022-06-15T18:01:57.998Z"
      },
      {
        "duration": 7,
        "start_time": "2022-06-15T18:01:58.035Z"
      },
      {
        "duration": 19,
        "start_time": "2022-06-15T18:01:58.043Z"
      },
      {
        "duration": 10,
        "start_time": "2022-06-15T18:01:58.063Z"
      },
      {
        "duration": 3,
        "start_time": "2022-06-15T18:01:58.074Z"
      },
      {
        "duration": 12,
        "start_time": "2022-06-15T18:01:58.079Z"
      },
      {
        "duration": 39,
        "start_time": "2022-06-15T18:01:58.092Z"
      },
      {
        "duration": 17,
        "start_time": "2022-06-15T18:01:58.133Z"
      },
      {
        "duration": 14,
        "start_time": "2022-06-15T18:01:58.152Z"
      },
      {
        "duration": 25,
        "start_time": "2022-06-15T18:01:58.168Z"
      },
      {
        "duration": 59,
        "start_time": "2022-06-15T18:45:02.084Z"
      },
      {
        "duration": 561,
        "start_time": "2022-06-15T18:45:15.075Z"
      },
      {
        "duration": 21,
        "start_time": "2022-06-15T18:45:21.604Z"
      },
      {
        "duration": 18,
        "start_time": "2022-06-15T18:45:25.010Z"
      },
      {
        "duration": 12,
        "start_time": "2022-06-15T18:45:27.633Z"
      },
      {
        "duration": 32,
        "start_time": "2022-06-15T18:45:30.267Z"
      },
      {
        "duration": 5,
        "start_time": "2022-06-15T18:45:32.047Z"
      },
      {
        "duration": 7,
        "start_time": "2022-06-15T18:45:33.675Z"
      },
      {
        "duration": 4,
        "start_time": "2022-06-15T18:45:36.137Z"
      },
      {
        "duration": 7,
        "start_time": "2022-06-15T18:45:38.498Z"
      },
      {
        "duration": 4,
        "start_time": "2022-06-15T18:45:40.429Z"
      },
      {
        "duration": 43,
        "start_time": "2022-06-15T18:45:42.353Z"
      },
      {
        "duration": 9,
        "start_time": "2022-06-15T18:45:44.872Z"
      },
      {
        "duration": 3,
        "start_time": "2022-06-15T18:45:47.893Z"
      },
      {
        "duration": 17,
        "start_time": "2022-06-15T18:45:50.568Z"
      },
      {
        "duration": 10,
        "start_time": "2022-06-15T18:45:52.484Z"
      },
      {
        "duration": 4,
        "start_time": "2022-06-15T18:45:57.835Z"
      },
      {
        "duration": 9,
        "start_time": "2022-06-15T18:46:00.106Z"
      },
      {
        "duration": 5,
        "start_time": "2022-06-15T18:46:01.551Z"
      },
      {
        "duration": 3,
        "start_time": "2022-06-15T18:46:04.301Z"
      },
      {
        "duration": 8,
        "start_time": "2022-06-15T18:46:06.953Z"
      },
      {
        "duration": 26,
        "start_time": "2022-06-15T18:46:20.656Z"
      },
      {
        "duration": 28,
        "start_time": "2022-06-15T18:46:53.076Z"
      },
      {
        "duration": 16,
        "start_time": "2022-06-15T18:51:23.217Z"
      },
      {
        "duration": 19,
        "start_time": "2022-06-15T18:53:48.598Z"
      },
      {
        "duration": 18,
        "start_time": "2022-06-15T18:59:52.401Z"
      },
      {
        "duration": 39,
        "start_time": "2022-06-15T19:05:50.790Z"
      },
      {
        "duration": 18,
        "start_time": "2022-06-15T19:06:15.757Z"
      },
      {
        "duration": 507,
        "start_time": "2022-06-16T10:27:24.257Z"
      },
      {
        "duration": 21,
        "start_time": "2022-06-16T10:27:28.059Z"
      },
      {
        "duration": 13,
        "start_time": "2022-06-16T10:27:31.597Z"
      },
      {
        "duration": 10,
        "start_time": "2022-06-16T10:27:34.208Z"
      },
      {
        "duration": 29,
        "start_time": "2022-06-16T10:27:36.884Z"
      },
      {
        "duration": 3,
        "start_time": "2022-06-16T10:27:39.101Z"
      },
      {
        "duration": 9,
        "start_time": "2022-06-16T10:27:41.181Z"
      },
      {
        "duration": 4,
        "start_time": "2022-06-16T10:27:43.816Z"
      },
      {
        "duration": 19,
        "start_time": "2022-06-16T10:27:46.357Z"
      },
      {
        "duration": 4,
        "start_time": "2022-06-16T10:27:48.275Z"
      },
      {
        "duration": 31,
        "start_time": "2022-06-16T10:27:50.718Z"
      },
      {
        "duration": 10,
        "start_time": "2022-06-16T10:27:53.093Z"
      },
      {
        "duration": 4,
        "start_time": "2022-06-16T10:27:55.822Z"
      },
      {
        "duration": 19,
        "start_time": "2022-06-16T10:27:57.700Z"
      },
      {
        "duration": 15,
        "start_time": "2022-06-16T10:27:59.622Z"
      },
      {
        "duration": 10,
        "start_time": "2022-06-16T10:28:01.669Z"
      },
      {
        "duration": 3,
        "start_time": "2022-06-16T10:28:03.965Z"
      },
      {
        "duration": 5,
        "start_time": "2022-06-16T10:28:07.485Z"
      },
      {
        "duration": 3,
        "start_time": "2022-06-16T10:28:11.420Z"
      },
      {
        "duration": 8,
        "start_time": "2022-06-16T10:28:13.555Z"
      },
      {
        "duration": 21,
        "start_time": "2022-06-16T10:28:21.788Z"
      },
      {
        "duration": 18,
        "start_time": "2022-06-16T10:33:58.592Z"
      },
      {
        "duration": 16,
        "start_time": "2022-06-16T10:42:15.812Z"
      },
      {
        "duration": 24,
        "start_time": "2022-06-16T10:59:16.898Z"
      },
      {
        "duration": 23,
        "start_time": "2022-06-16T11:11:50.285Z"
      },
      {
        "duration": 23,
        "start_time": "2022-06-16T11:11:53.952Z"
      },
      {
        "duration": 24,
        "start_time": "2022-06-16T11:13:08.491Z"
      },
      {
        "duration": 79,
        "start_time": "2022-06-16T11:19:43.016Z"
      },
      {
        "duration": 9,
        "start_time": "2022-06-16T11:20:05.584Z"
      },
      {
        "duration": 30,
        "start_time": "2022-06-16T11:20:11.816Z"
      },
      {
        "duration": 23,
        "start_time": "2022-06-16T11:26:35.804Z"
      },
      {
        "duration": 10,
        "start_time": "2022-06-16T11:28:02.245Z"
      },
      {
        "duration": 22,
        "start_time": "2022-06-16T11:28:18.816Z"
      }
    ],
    "colab": {
      "provenance": []
    },
    "kernelspec": {
      "display_name": "Python 3 (ipykernel)",
      "language": "python",
      "name": "python3"
    },
    "language_info": {
      "codemirror_mode": {
        "name": "ipython",
        "version": 3
      },
      "file_extension": ".py",
      "mimetype": "text/x-python",
      "name": "python",
      "nbconvert_exporter": "python",
      "pygments_lexer": "ipython3",
      "version": "3.9.5"
    },
    "toc": {
      "base_numbering": 1,
      "nav_menu": {},
      "number_sections": true,
      "sideBar": true,
      "skip_h1_title": true,
      "title_cell": "Table of Contents",
      "title_sidebar": "Contents",
      "toc_cell": false,
      "toc_position": {},
      "toc_section_display": true,
      "toc_window_display": false
    }
  },
  "nbformat": 4,
  "nbformat_minor": 5
}